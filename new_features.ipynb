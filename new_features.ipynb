{
 "cells": [
  {
   "cell_type": "code",
   "execution_count": 1,
   "metadata": {},
   "outputs": [],
   "source": [
    "import re\n",
    "import os\n",
    "import cv2\n",
    "import time\n",
    "import random\n",
    "import plotly.express as px\n",
    "from tqdm import tqdm\n",
    "from scipy import signal\n",
    "import scipy as sp\n",
    "import scipy.ndimage\n",
    "import numpy as np\n",
    "import typing as t\n",
    "from PIL import Image\n",
    "import pandas as pd\n",
    "import matplotlib.pyplot as plt\n",
    "import tensorflow as tf\n",
    "import tensorflow.keras as k\n",
    "from scipy.stats import norm, kurtosis\n",
    "from pandas.plotting import scatter_matrix\n",
    "from sklearn.metrics import mean_absolute_error\n",
    "from sklearn.metrics import roc_auc_score\n",
    "from tensorflow.keras.models import load_model, Model\n",
    "from joblib import Parallel, delayed\n",
    "from skimage.transform import resize\n",
    "from sklearn.linear_model import LinearRegression\n",
    "from sklearn.linear_model import LogisticRegression\n",
    "from sklearn.model_selection import train_test_split\n",
    "from catboost import CatBoostRegressor, CatBoostClassifier\n",
    "\n",
    "import config as c\n",
    "from utils.image_processing import crop_image\n",
    "import utils.model as model_factory\n",
    "from utils.dataset import get_train_data, get_test_data\n",
    "\n",
    "plt.rcParams[\"figure.figsize\"] = (10, 10)"
   ]
  },
  {
   "cell_type": "code",
   "execution_count": 2,
   "metadata": {},
   "outputs": [
    {
     "name": "stderr",
     "output_type": "stream",
     "text": [
      "100%|██████████| 6646/6646 [00:04<00:00, 1611.15it/s]\n",
      "100%|██████████| 6646/6646 [00:00<00:00, 28160.92it/s]\n",
      "100%|██████████| 6758/6758 [00:02<00:00, 2369.57it/s]\n",
      "100%|██████████| 6758/6758 [00:00<00:00, 28757.11it/s]\n",
      "100%|██████████| 13404/13404 [00:05<00:00, 2556.06it/s]\n"
     ]
    }
   ],
   "source": [
    "df = get_train_data(available_energy_values=[1, 3, 6, 10, 20, 30], input_shape=(250, 250), values_linear_transformation=False, center_by_max=False, short_load=False, distance_matrices=False, return_as_dataframe=True)\n",
    "df['img_80'] = Parallel(n_jobs=c.NUM_CORES)(delayed(crop_image)(img, (80, 80), False) for img in tqdm(df['img_250']))"
   ]
  },
  {
   "cell_type": "code",
   "execution_count": 3,
   "metadata": {},
   "outputs": [],
   "source": [
    "def create_circular_mask(h, w, center=None, radius=None):\n",
    "    # Создает круговую маску изображения, с требуемым радиусом\n",
    "    if center is None:\n",
    "        center = (int(w/2), int(h/2))\n",
    "    if radius is None:\n",
    "        radius = min(center[0], center[1], w-center[0], h-center[1])\n",
    "\n",
    "    Y, X = np.ogrid[:h, :w]\n",
    "    dist_from_center = np.sqrt((X - center[0])**2 + (Y-center[1])**2)\n",
    "\n",
    "    mask = dist_from_center <= radius\n",
    "    return mask\n",
    "\n",
    "def get_height_map(img):\n",
    "    # Получает граффик высот пятна\n",
    "    m = np.zeros((15))\n",
    "    for r in range(0, 30, 2):\n",
    "        mask = create_circular_mask(80, 80, radius=r) * (~create_circular_mask(80, 80, radius=r-2))\n",
    "        m[r//2] = np.sum(mask * (img-100.4)) / np.sum(mask)\n",
    "    m -= m.min()\n",
    "    m /= m.max()\n",
    "    return m\n",
    "\n",
    "\n",
    "def get_histogram_map(img, radius_0=7, radius_1=30):\n",
    "    mask = create_circular_mask(80, 80, radius=radius_1) * (~create_circular_mask(80, 80, radius=radius_0))\n",
    "    m = np.histogram(img[mask], range=(100, 120), bins=20)[0]\n",
    "    \n",
    "    return m\n",
    "\n",
    "def get_img_spector(img):\n",
    "    sum_img = np.sum(img*create_circular_mask(80, 80, radius=20)).reshape(-1)\n",
    "    std_img = np.std(img*create_circular_mask(80, 80, radius=20)).reshape(-1)\n",
    "    \n",
    "    histogram_map_0_7 = get_histogram_map(img, 0, 6)\n",
    "    histogram_map_7_30 = get_histogram_map(img, 6, 30)\n",
    "    img = sp.ndimage.filters.gaussian_filter(img, [5.0, 5.0])\n",
    "    \n",
    "    height_map = get_height_map(img)\n",
    "    spector = np.concatenate([std_img, np.array(kurtosis(height_map)).reshape(-1), sum_img])\n",
    "    #spector = np.concatenate([std_img, np.array(kurtosis(height_map)).reshape(-1), sum_img])\n",
    "    #spector = np.concatenate([histogram_map_0_7, histogram_map_7_30, height_map, sum_img, std_img])\n",
    "    return spector\n",
    "\n",
    "def get_circular_ratio(img):\n",
    "    img_gaussian = sp.ndimage.filters.gaussian_filter(img.copy(), [3.0, 3.0])\n",
    "    gaussian_mask = img_gaussian > np.quantile(img_gaussian, 0.995)\n",
    "    r = np.sqrt(np.sum(gaussian_mask)/np.pi)\n",
    "    mask = create_circular_mask(250, 250, radius=r)\n",
    "    return np.sum(mask*gaussian_mask)/np.sum(mask+gaussian_mask)\n",
    "\n",
    "def get_bright_sum(img):\n",
    "    img_gaussian = sp.ndimage.filters.gaussian_filter(img.copy(), [3.0, 3.0])\n",
    "    gaussian_mask = img_gaussian > np.quantile(img_gaussian, 0.98)#112\n",
    "    return np.sum(img[gaussian_mask]-100.4)/1000"
   ]
  },
  {
   "cell_type": "code",
   "execution_count": 4,
   "metadata": {},
   "outputs": [],
   "source": [
    "def get_random_noise_hist(img, hist_range=(80, 140), bins=60):\n",
    "    mask = ~create_circular_mask(250, 250, radius=30)\n",
    "    img = img * mask\n",
    "    return np.histogram(img, range=hist_range, bins=bins)[0] / np.sum(mask)\n",
    "\n",
    "\n",
    "def get_histogram_map(img, radius_0=8, radius_1=15):\n",
    "    mask = create_circular_mask(80, 80, radius=radius_1) * (~create_circular_mask(80, 80, radius=radius_0))\n",
    "    m = np.histogram(img[mask], range=(80, 140), bins=60)[0] / np.sum(mask)\n",
    "    \n",
    "    return m"
   ]
  },
  {
   "cell_type": "code",
   "execution_count": 5,
   "metadata": {},
   "outputs": [
    {
     "name": "stderr",
     "output_type": "stream",
     "text": [
      "100%|██████████| 6646/6646 [00:03<00:00, 1857.98it/s]\n"
     ]
    }
   ],
   "source": [
    "random_noise_hist = np.sum(Parallel(n_jobs=c.NUM_CORES)(delayed(get_random_noise_hist)(img, hist_range=(80, 140), bins=60) for img in tqdm(df[df.t==1]['img_250'])), axis=0)"
   ]
  },
  {
   "cell_type": "code",
   "execution_count": 6,
   "metadata": {},
   "outputs": [
    {
     "name": "stderr",
     "output_type": "stream",
     "text": [
      "100%|██████████| 6646/6646 [00:03<00:00, 1883.25it/s]\n"
     ]
    }
   ],
   "source": [
    "random_noise_hist = np.sum(Parallel(n_jobs=c.NUM_CORES)(delayed(get_random_noise_hist)(img, hist_range=(80, 140), bins=60) for img in tqdm(df[df.t==1]['img_250'])), axis=0) / len(df[df.t==1]['img_250'])"
   ]
  },
  {
   "cell_type": "code",
   "execution_count": 7,
   "metadata": {},
   "outputs": [
    {
     "data": {
      "image/png": "[encoded data removed]",
      "text/plain": [
       "<Figure size 720x720 with 1 Axes>"
      ]
     },
     "metadata": {
      "needs_background": "light"
     },
     "output_type": "display_data"
    }
   ],
   "source": [
    "plt.bar(np.arange(80, 140, 1), random_noise_hist, width = 0.8, color='b')\n",
    "plt.bar(np.arange(80, 140, 1), get_random_noise_hist(df[df.t==1]['img_250'][1]), width = 0.8, color='r', alpha=0.5)\n",
    "plt.show()"
   ]
  },
  {
   "cell_type": "code",
   "execution_count": 8,
   "metadata": {},
   "outputs": [
    {
     "data": {
      "image/png": "[encoded data removed]",
      "text/plain": [
       "<Figure size 720x720 with 1 Axes>"
      ]
     },
     "metadata": {
      "needs_background": "light"
     },
     "output_type": "display_data"
    }
   ],
   "source": [
    "plt.bar(np.arange(80, 140, 1), random_noise_hist, width = 0.8, color='b')\n",
    "plt.bar(np.arange(80, 140, 1), get_histogram_map(df[df.t==1]['img_80'][0]), width = 0.8, color='r', alpha=0.5)\n",
    "plt.show()"
   ]
  },
  {
   "cell_type": "code",
   "execution_count": null,
   "metadata": {},
   "outputs": [],
   "source": []
  },
  {
   "cell_type": "code",
   "execution_count": null,
   "metadata": {},
   "outputs": [],
   "source": []
  },
  {
   "cell_type": "code",
   "execution_count": null,
   "metadata": {},
   "outputs": [],
   "source": []
  },
  {
   "cell_type": "code",
   "execution_count": null,
   "metadata": {},
   "outputs": [],
   "source": []
  },
  {
   "cell_type": "code",
   "execution_count": 231,
   "metadata": {},
   "outputs": [
    {
     "name": "stderr",
     "output_type": "stream",
     "text": [
      "100%|██████████| 9028/9028 [00:21<00:00, 423.94it/s]\n",
      "100%|██████████| 9028/9028 [00:12<00:00, 726.30it/s]\n",
      "100%|██████████| 9028/9028 [00:06<00:00, 1428.03it/s]\n"
     ]
    }
   ],
   "source": [
    "df['circular_ratio'] = np.array(Parallel(n_jobs=c.NUM_CORES)(delayed(get_circular_ratio)(img) for img in tqdm(df['img_250'])))\n",
    "df['bright_sum'] = np.array(Parallel(n_jobs=c.NUM_CORES)(delayed(get_bright_sum)(img) for img in tqdm(df['img_250'])))\n",
    "\n",
    "df_center_shifted = df[((df.circular_ratio<0.8)&(df.bright_sum>5))]\n",
    "df = df[~((df.circular_ratio<0.8)&(df.bright_sum>5))]\n",
    "\n",
    "df['img_80'] = Parallel(n_jobs=c.NUM_CORES)(delayed(crop_image)(img, (80, 80), False) for img in tqdm(df['img_250']))\n",
    "df['img_80'] = df['img_80'].map(lambda img: img-np.mean((img[:25]+img[-25:]), axis=0).reshape(1, 80)/2+100.4)"
   ]
  },
  {
   "cell_type": "code",
   "execution_count": 14,
   "metadata": {},
   "outputs": [
    {
     "name": "stderr",
     "output_type": "stream",
     "text": [
      "100%|██████████| 9028/9028 [00:42<00:00, 211.27it/s]\n"
     ]
    }
   ],
   "source": [
    "df['spector'] = Parallel(n_jobs=c.NUM_CORES)(delayed(get_img_spector)(img) for img in tqdm(df['img_80']))"
   ]
  },
  {
   "cell_type": "code",
   "execution_count": 15,
   "metadata": {},
   "outputs": [
    {
     "data": {
      "text/html": [
       "<div>\n",
       "<style scoped>\n",
       "    .dataframe tbody tr th:only-of-type {\n",
       "        vertical-align: middle;\n",
       "    }\n",
       "\n",
       "    .dataframe tbody tr th {\n",
       "        vertical-align: top;\n",
       "    }\n",
       "\n",
       "    .dataframe thead th {\n",
       "        text-align: right;\n",
       "    }\n",
       "</style>\n",
       "<table border=\"1\" class=\"dataframe\">\n",
       "  <thead>\n",
       "    <tr style=\"text-align: right;\">\n",
       "      <th></th>\n",
       "      <th>t</th>\n",
       "      <th>e</th>\n",
       "      <th>img_250</th>\n",
       "      <th>img_80</th>\n",
       "      <th>circular_ratio</th>\n",
       "      <th>bright_sum</th>\n",
       "      <th>spector</th>\n",
       "    </tr>\n",
       "  </thead>\n",
       "  <tbody>\n",
       "    <tr>\n",
       "      <th>0</th>\n",
       "      <td>1</td>\n",
       "      <td>6</td>\n",
       "      <td>[[105.0, 100.0, 96.0, 103.0, 99.0, 103.0, 103....</td>\n",
       "      <td>[[93.04, 105.14, 104.98, 99.520004, 99.14, 104...</td>\n",
       "      <td>0.884146</td>\n",
       "      <td>3.486998</td>\n",
       "      <td>[40.81663513183594, -1.3736760390376546, 12899...</td>\n",
       "    </tr>\n",
       "    <tr>\n",
       "      <th>1</th>\n",
       "      <td>1</td>\n",
       "      <td>20</td>\n",
       "      <td>[[106.0, 97.0, 98.0, 101.0, 101.0, 101.0, 104....</td>\n",
       "      <td>[[100.380005, 100.200005, 102.36, 97.5, 97.62,...</td>\n",
       "      <td>0.925234</td>\n",
       "      <td>10.607998</td>\n",
       "      <td>[43.46559524536133, -1.3882567428840797, 13651...</td>\n",
       "    </tr>\n",
       "    <tr>\n",
       "      <th>2</th>\n",
       "      <td>1</td>\n",
       "      <td>20</td>\n",
       "      <td>[[104.0, 101.0, 98.0, 99.0, 103.0, 105.0, 101....</td>\n",
       "      <td>[[101.14, 101.880005, 102.6, 100.94, 100.92, 1...</td>\n",
       "      <td>0.913313</td>\n",
       "      <td>9.111998</td>\n",
       "      <td>[42.779327392578125, -1.395732821154118, 13459...</td>\n",
       "    </tr>\n",
       "    <tr>\n",
       "      <th>3</th>\n",
       "      <td>1</td>\n",
       "      <td>20</td>\n",
       "      <td>[[95.0, 104.0, 101.0, 99.0, 103.0, 100.0, 98.0...</td>\n",
       "      <td>[[96.26, 100.5, 95.42, 97.18, 99.68, 101.42, 1...</td>\n",
       "      <td>0.919255</td>\n",
       "      <td>10.104999</td>\n",
       "      <td>[43.09930419921875, -1.3965786517093128, 13546...</td>\n",
       "    </tr>\n",
       "    <tr>\n",
       "      <th>4</th>\n",
       "      <td>1</td>\n",
       "      <td>20</td>\n",
       "      <td>[[95.0, 100.0, 94.0, 98.0, 98.0, 99.0, 95.0, 1...</td>\n",
       "      <td>[[98.82, 107.0, 98.66, 102.44, 101.46, 99.54, ...</td>\n",
       "      <td>0.878419</td>\n",
       "      <td>12.223998</td>\n",
       "      <td>[44.0062255859375, -1.374916011041052, 137931....</td>\n",
       "    </tr>\n",
       "  </tbody>\n",
       "</table>\n",
       "</div>"
      ],
      "text/plain": [
       "   t   e                                            img_250  \\\n",
       "0  1   6  [[105.0, 100.0, 96.0, 103.0, 99.0, 103.0, 103....   \n",
       "1  1  20  [[106.0, 97.0, 98.0, 101.0, 101.0, 101.0, 104....   \n",
       "2  1  20  [[104.0, 101.0, 98.0, 99.0, 103.0, 105.0, 101....   \n",
       "3  1  20  [[95.0, 104.0, 101.0, 99.0, 103.0, 100.0, 98.0...   \n",
       "4  1  20  [[95.0, 100.0, 94.0, 98.0, 98.0, 99.0, 95.0, 1...   \n",
       "\n",
       "                                              img_80  circular_ratio  \\\n",
       "0  [[93.04, 105.14, 104.98, 99.520004, 99.14, 104...        0.884146   \n",
       "1  [[100.380005, 100.200005, 102.36, 97.5, 97.62,...        0.925234   \n",
       "2  [[101.14, 101.880005, 102.6, 100.94, 100.92, 1...        0.913313   \n",
       "3  [[96.26, 100.5, 95.42, 97.18, 99.68, 101.42, 1...        0.919255   \n",
       "4  [[98.82, 107.0, 98.66, 102.44, 101.46, 99.54, ...        0.878419   \n",
       "\n",
       "   bright_sum                                            spector  \n",
       "0    3.486998  [40.81663513183594, -1.3736760390376546, 12899...  \n",
       "1   10.607998  [43.46559524536133, -1.3882567428840797, 13651...  \n",
       "2    9.111998  [42.779327392578125, -1.395732821154118, 13459...  \n",
       "3   10.104999  [43.09930419921875, -1.3965786517093128, 13546...  \n",
       "4   12.223998  [44.0062255859375, -1.374916011041052, 137931....  "
      ]
     },
     "execution_count": 15,
     "metadata": {},
     "output_type": "execute_result"
    }
   ],
   "source": [
    "df.head()"
   ]
  },
  {
   "cell_type": "code",
   "execution_count": null,
   "metadata": {},
   "outputs": [],
   "source": []
  },
  {
   "cell_type": "code",
   "execution_count": 278,
   "metadata": {},
   "outputs": [],
   "source": [
    "from sklearn.metrics import mean_poisson_deviance"
   ]
  },
  {
   "cell_type": "code",
   "execution_count": 148,
   "metadata": {},
   "outputs": [],
   "source": [
    "def get_histogram_matrix(img, max_r):\n",
    "    hists = []\n",
    "    for r in range(max_r):\n",
    "        mask = create_circular_mask(80, 80, radius=r+3) * (~create_circular_mask(80, 80, radius=r))\n",
    "        hist, bins = np.histogram(img[mask], range=(80, 180), bins=100)\n",
    "        hists.append(hist/np.sum(mask))\n",
    "    return np.array(hists) * (max_r - np.arange(1, max_r+1).reshape(-1, 1))"
   ]
  },
  {
   "cell_type": "code",
   "execution_count": 149,
   "metadata": {},
   "outputs": [
    {
     "name": "stderr",
     "output_type": "stream",
     "text": [
      "100%|██████████| 9028/9028 [00:03<00:00, 2875.54it/s]\n"
     ]
    }
   ],
   "source": [
    "df['hist_matrix'] = Parallel(n_jobs=c.NUM_CORES)(delayed(get_histogram_matrix)(img, 16) for img in tqdm(df['img_80']))"
   ]
  },
  {
   "cell_type": "code",
   "execution_count": 150,
   "metadata": {},
   "outputs": [
    {
     "data": {
      "text/plain": [
       "array([0.15, 0.14, 0.13, 0.12, 0.11, 0.1 , 0.09, 0.08, 0.07, 0.06, 0.05,\n",
       "       0.04, 0.03, 0.02, 0.01, 0.  ])"
      ]
     },
     "execution_count": 150,
     "metadata": {},
     "output_type": "execute_result"
    }
   ],
   "source": [
    "np.mean(df['hist_matrix'][0], axis=1)"
   ]
  },
  {
   "cell_type": "code",
   "execution_count": 284,
   "metadata": {},
   "outputs": [
    {
     "data": {
      "text/plain": [
       "2.095363869020282"
      ]
     },
     "execution_count": 284,
     "metadata": {},
     "output_type": "execute_result"
    }
   ],
   "source": [
    "np.max(mean_hist_matrix.reshape(-1))"
   ]
  },
  {
   "cell_type": "code",
   "execution_count": 294,
   "metadata": {},
   "outputs": [],
   "source": [
    "mean_hist_matrix = np.mean(df[(df.t==1)&(df.e==1)]['hist_matrix'])\n",
    "df['error_t1e1'] = Parallel(n_jobs=c.NUM_CORES)(delayed(mean_absolute_error)(mean_hist_matrix, hist_matrix) for hist_matrix in df['hist_matrix'])\n",
    "\n",
    "mean_hist_matrix = np.mean(df[(df.t==1)&(df.e==6)]['hist_matrix'])\n",
    "df['error_t1e6'] = Parallel(n_jobs=c.NUM_CORES)(delayed(mean_absolute_error)(mean_hist_matrix, hist_matrix) for hist_matrix in df['hist_matrix'])\n",
    "\n",
    "mean_hist_matrix = np.mean(df[(df.t==1)&(df.e==20)]['hist_matrix'])\n",
    "df['error_t1e20'] = Parallel(n_jobs=c.NUM_CORES)(delayed(mean_absolute_error)(mean_hist_matrix, hist_matrix) for hist_matrix in df['hist_matrix'])\n",
    "\n",
    "mean_hist_matrix = np.mean(df[(df.t==0)&(df.e==3)]['hist_matrix'])\n",
    "df['error_t0e3'] = Parallel(n_jobs=c.NUM_CORES)(delayed(mean_absolute_error)(mean_hist_matrix, hist_matrix) for hist_matrix in df['hist_matrix'])\n",
    "\n",
    "mean_hist_matrix = np.mean(df[(df.t==0)&(df.e==10)]['hist_matrix'])\n",
    "df['error_t0e10'] = Parallel(n_jobs=c.NUM_CORES)(delayed(mean_absolute_error)(mean_hist_matrix, hist_matrix) for hist_matrix in df['hist_matrix'])"
   ]
  },
  {
   "cell_type": "code",
   "execution_count": 295,
   "metadata": {},
   "outputs": [
    {
     "data": {
      "text/plain": [
       "t                         1.000000\n",
       "e                         0.335247\n",
       "circular_ratio           -0.316123\n",
       "bright_sum                0.243203\n",
       "error_t1e1               -0.015683\n",
       "error_t1e6                0.451837\n",
       "error_t1e20              -0.275489\n",
       "error_t0e3                0.510654\n",
       "error_t0e10              -0.110493\n",
       "predict                   0.998561\n",
       "particle_types_predict    0.998289\n",
       "mean_img_error_t1e6       0.307928\n",
       "mean_img_error_t1e1       0.265065\n",
       "mean_img_error_t0e3       0.321891\n",
       "Name: t, dtype: float64"
      ]
     },
     "execution_count": 295,
     "metadata": {},
     "output_type": "execute_result"
    }
   ],
   "source": [
    "df.corr()['t']"
   ]
  },
  {
   "cell_type": "code",
   "execution_count": 296,
   "metadata": {},
   "outputs": [
    {
     "data": {
      "text/plain": [
       "t                         1.000000\n",
       "e                         0.335247\n",
       "circular_ratio           -0.316123\n",
       "bright_sum                0.243203\n",
       "error_t1e1               -0.015683\n",
       "error_t1e6                0.451837\n",
       "error_t1e20              -0.275489\n",
       "error_t0e3                0.510654\n",
       "error_t0e10              -0.110493\n",
       "predict                   0.998561\n",
       "particle_types_predict    0.998289\n",
       "mean_img_error_t1e6       0.307928\n",
       "mean_img_error_t1e1       0.265065\n",
       "mean_img_error_t0e3       0.321891\n",
       "Name: t, dtype: float64"
      ]
     },
     "execution_count": 296,
     "metadata": {},
     "output_type": "execute_result"
    }
   ],
   "source": [
    "df.corr()['t']"
   ]
  },
  {
   "cell_type": "code",
   "execution_count": 297,
   "metadata": {},
   "outputs": [],
   "source": [
    "mean_hist_matrix = np.mean(df[(df.t==1)&(df.e==1)]['hist_matrix'])\n",
    "a=df[(df.t==1)&(df.e==1)]['hist_matrix'].map(lambda hist_matrix: mean_absolute_error(np.transpose(mean_hist_matrix, (1, 0)), np.transpose(hist_matrix, (1, 0)), multioutput='raw_values') )"
   ]
  },
  {
   "cell_type": "code",
   "execution_count": 298,
   "metadata": {},
   "outputs": [
    {
     "data": {
      "text/plain": [
       "[<matplotlib.lines.Line2D at 0x1cc65246be0>]"
      ]
     },
     "execution_count": 298,
     "metadata": {},
     "output_type": "execute_result"
    },
    {
     "data": {
      "image/png": "[encoded data removed]",
      "text/plain": [
       "<Figure size 1800x288 with 1 Axes>"
      ]
     },
     "metadata": {
      "needs_background": "light"
     },
     "output_type": "display_data"
    }
   ],
   "source": [
    "plt.plot(np.std(np.array(a.to_list()), axis=0))"
   ]
  },
  {
   "cell_type": "code",
   "execution_count": null,
   "metadata": {},
   "outputs": [],
   "source": []
  },
  {
   "cell_type": "code",
   "execution_count": 299,
   "metadata": {},
   "outputs": [
    {
     "data": {
      "text/html": [
       "<div>\n",
       "<style scoped>\n",
       "    .dataframe tbody tr th:only-of-type {\n",
       "        vertical-align: middle;\n",
       "    }\n",
       "\n",
       "    .dataframe tbody tr th {\n",
       "        vertical-align: top;\n",
       "    }\n",
       "\n",
       "    .dataframe thead th {\n",
       "        text-align: right;\n",
       "    }\n",
       "</style>\n",
       "<table border=\"1\" class=\"dataframe\">\n",
       "  <thead>\n",
       "    <tr style=\"text-align: right;\">\n",
       "      <th></th>\n",
       "      <th>t</th>\n",
       "      <th>e</th>\n",
       "      <th>img_250</th>\n",
       "      <th>img_80</th>\n",
       "      <th>circular_ratio</th>\n",
       "      <th>bright_sum</th>\n",
       "      <th>spector</th>\n",
       "      <th>hist_matrix</th>\n",
       "      <th>error_t1e1</th>\n",
       "      <th>error_t1e6</th>\n",
       "      <th>error_t1e20</th>\n",
       "      <th>error_t0e3</th>\n",
       "      <th>error_t0e10</th>\n",
       "      <th>predict</th>\n",
       "      <th>particle_types_predict</th>\n",
       "      <th>img_80_circular</th>\n",
       "      <th>mean_img_error_t1e6</th>\n",
       "      <th>mean_img_error_t1e1</th>\n",
       "      <th>mean_img_error_t0e3</th>\n",
       "    </tr>\n",
       "  </thead>\n",
       "  <tbody>\n",
       "    <tr>\n",
       "      <th>0</th>\n",
       "      <td>1</td>\n",
       "      <td>6</td>\n",
       "      <td>[[105.0, 100.0, 96.0, 103.0, 99.0, 103.0, 103....</td>\n",
       "      <td>[[93.04, 105.14, 104.98, 99.520004, 99.14, 104...</td>\n",
       "      <td>0.884146</td>\n",
       "      <td>3.486998</td>\n",
       "      <td>[40.81663513183594, -1.3736760390376546, 12899...</td>\n",
       "      <td>[[0.0, 0.0, 0.0, 0.0, 0.0, 0.0, 0.0, 0.0, 0.0,...</td>\n",
       "      <td>0.089621</td>\n",
       "      <td>0.032815</td>\n",
       "      <td>0.127006</td>\n",
       "      <td>0.036447</td>\n",
       "      <td>0.101584</td>\n",
       "      <td>0.985262</td>\n",
       "      <td>1</td>\n",
       "      <td>[[0.0, 0.0, 0.0, 0.0, 0.0, 0.0, 0.0, 0.0, 0.0,...</td>\n",
       "      <td>2.537597</td>\n",
       "      <td>4.341945</td>\n",
       "      <td>2.692320</td>\n",
       "    </tr>\n",
       "    <tr>\n",
       "      <th>1</th>\n",
       "      <td>1</td>\n",
       "      <td>20</td>\n",
       "      <td>[[106.0, 97.0, 98.0, 101.0, 101.0, 101.0, 104....</td>\n",
       "      <td>[[100.380005, 100.200005, 102.36, 97.5, 97.62,...</td>\n",
       "      <td>0.925234</td>\n",
       "      <td>10.607998</td>\n",
       "      <td>[43.46559524536133, -1.3882567428840797, 13651...</td>\n",
       "      <td>[[0.0, 0.0, 0.0, 0.0, 0.0, 0.0, 0.0, 0.0, 0.0,...</td>\n",
       "      <td>0.136832</td>\n",
       "      <td>0.128730</td>\n",
       "      <td>0.040113</td>\n",
       "      <td>0.131616</td>\n",
       "      <td>0.064313</td>\n",
       "      <td>0.987338</td>\n",
       "      <td>1</td>\n",
       "      <td>[[0.0, 0.0, 0.0, 0.0, 0.0, 0.0, 0.0, 0.0, 0.0,...</td>\n",
       "      <td>25.251123</td>\n",
       "      <td>39.071026</td>\n",
       "      <td>25.392618</td>\n",
       "    </tr>\n",
       "    <tr>\n",
       "      <th>2</th>\n",
       "      <td>1</td>\n",
       "      <td>20</td>\n",
       "      <td>[[104.0, 101.0, 98.0, 99.0, 103.0, 105.0, 101....</td>\n",
       "      <td>[[101.14, 101.880005, 102.6, 100.94, 100.92, 1...</td>\n",
       "      <td>0.913313</td>\n",
       "      <td>9.111998</td>\n",
       "      <td>[42.779327392578125, -1.395732821154118, 13459...</td>\n",
       "      <td>[[0.0, 0.0, 0.0, 0.0, 0.0, 0.0, 0.0, 0.0, 0.0,...</td>\n",
       "      <td>0.131731</td>\n",
       "      <td>0.116460</td>\n",
       "      <td>0.050482</td>\n",
       "      <td>0.118215</td>\n",
       "      <td>0.052960</td>\n",
       "      <td>0.985203</td>\n",
       "      <td>1</td>\n",
       "      <td>[[0.0, 0.0, 0.0, 0.0, 0.0, 0.0, 0.0, 0.0, 0.0,...</td>\n",
       "      <td>16.600407</td>\n",
       "      <td>27.623585</td>\n",
       "      <td>16.817171</td>\n",
       "    </tr>\n",
       "    <tr>\n",
       "      <th>3</th>\n",
       "      <td>1</td>\n",
       "      <td>20</td>\n",
       "      <td>[[95.0, 104.0, 101.0, 99.0, 103.0, 100.0, 98.0...</td>\n",
       "      <td>[[96.26, 100.5, 95.42, 97.18, 99.68, 101.42, 1...</td>\n",
       "      <td>0.919255</td>\n",
       "      <td>10.104999</td>\n",
       "      <td>[43.09930419921875, -1.3965786517093128, 13546...</td>\n",
       "      <td>[[0.0, 0.0, 0.0, 0.0, 0.0, 0.0, 0.0, 0.0, 0.0,...</td>\n",
       "      <td>0.134351</td>\n",
       "      <td>0.123721</td>\n",
       "      <td>0.039474</td>\n",
       "      <td>0.126379</td>\n",
       "      <td>0.053145</td>\n",
       "      <td>0.987338</td>\n",
       "      <td>1</td>\n",
       "      <td>[[0.0, 0.0, 0.0, 0.0, 0.0, 0.0, 0.0, 0.0, 0.0,...</td>\n",
       "      <td>21.029377</td>\n",
       "      <td>33.446903</td>\n",
       "      <td>21.257915</td>\n",
       "    </tr>\n",
       "    <tr>\n",
       "      <th>4</th>\n",
       "      <td>1</td>\n",
       "      <td>20</td>\n",
       "      <td>[[95.0, 100.0, 94.0, 98.0, 98.0, 99.0, 95.0, 1...</td>\n",
       "      <td>[[98.82, 107.0, 98.66, 102.44, 101.46, 99.54, ...</td>\n",
       "      <td>0.878419</td>\n",
       "      <td>12.223998</td>\n",
       "      <td>[44.0062255859375, -1.374916011041052, 137931....</td>\n",
       "      <td>[[0.0, 0.0, 0.0, 0.0, 0.0, 0.0, 0.0, 0.0, 0.0,...</td>\n",
       "      <td>0.136321</td>\n",
       "      <td>0.128800</td>\n",
       "      <td>0.046150</td>\n",
       "      <td>0.131614</td>\n",
       "      <td>0.072065</td>\n",
       "      <td>0.987347</td>\n",
       "      <td>1</td>\n",
       "      <td>[[0.0, 0.0, 0.0, 0.0, 0.0, 0.0, 0.0, 0.0, 0.0,...</td>\n",
       "      <td>34.891815</td>\n",
       "      <td>50.991100</td>\n",
       "      <td>35.044594</td>\n",
       "    </tr>\n",
       "    <tr>\n",
       "      <th>...</th>\n",
       "      <td>...</td>\n",
       "      <td>...</td>\n",
       "      <td>...</td>\n",
       "      <td>...</td>\n",
       "      <td>...</td>\n",
       "      <td>...</td>\n",
       "      <td>...</td>\n",
       "      <td>...</td>\n",
       "      <td>...</td>\n",
       "      <td>...</td>\n",
       "      <td>...</td>\n",
       "      <td>...</td>\n",
       "      <td>...</td>\n",
       "      <td>...</td>\n",
       "      <td>...</td>\n",
       "      <td>...</td>\n",
       "      <td>...</td>\n",
       "      <td>...</td>\n",
       "      <td>...</td>\n",
       "    </tr>\n",
       "    <tr>\n",
       "      <th>13394</th>\n",
       "      <td>0</td>\n",
       "      <td>3</td>\n",
       "      <td>[[94.0, 107.0, 97.0, 97.0, 101.0, 97.0, 101.0,...</td>\n",
       "      <td>[[101.92, 100.3, 97.72, 106.64, 99.520004, 99....</td>\n",
       "      <td>0.884146</td>\n",
       "      <td>3.268998</td>\n",
       "      <td>[40.46708679199219, -1.2326699568996422, 12787...</td>\n",
       "      <td>[[0.0, 0.0, 0.0, 0.0, 0.0, 0.0, 0.0, 0.0, 0.0,...</td>\n",
       "      <td>0.076895</td>\n",
       "      <td>0.033119</td>\n",
       "      <td>0.130850</td>\n",
       "      <td>0.031587</td>\n",
       "      <td>0.105823</td>\n",
       "      <td>0.033417</td>\n",
       "      <td>0</td>\n",
       "      <td>[[0.0, 0.0, 0.0, 0.0, 0.0, 0.0, 0.0, 0.0, 0.0,...</td>\n",
       "      <td>2.781797</td>\n",
       "      <td>4.036243</td>\n",
       "      <td>2.644354</td>\n",
       "    </tr>\n",
       "    <tr>\n",
       "      <th>13396</th>\n",
       "      <td>0</td>\n",
       "      <td>3</td>\n",
       "      <td>[[102.0, 99.0, 102.0, 101.0, 101.0, 101.0, 97....</td>\n",
       "      <td>[[105.020004, 98.8, 103.6, 110.32, 99.94, 98.6...</td>\n",
       "      <td>0.937304</td>\n",
       "      <td>3.569998</td>\n",
       "      <td>[40.59738540649414, -1.2370356048577642, 12826...</td>\n",
       "      <td>[[0.0, 0.0, 0.0, 0.0, 0.0, 0.0, 0.0, 0.0, 0.0,...</td>\n",
       "      <td>0.084810</td>\n",
       "      <td>0.035811</td>\n",
       "      <td>0.128411</td>\n",
       "      <td>0.029992</td>\n",
       "      <td>0.099661</td>\n",
       "      <td>0.034485</td>\n",
       "      <td>0</td>\n",
       "      <td>[[0.0, 0.0, 0.0, 0.0, 0.0, 0.0, 0.0, 0.0, 0.0,...</td>\n",
       "      <td>2.846817</td>\n",
       "      <td>4.894886</td>\n",
       "      <td>2.606159</td>\n",
       "    </tr>\n",
       "    <tr>\n",
       "      <th>13397</th>\n",
       "      <td>0</td>\n",
       "      <td>3</td>\n",
       "      <td>[[98.0, 100.0, 100.0, 100.0, 98.0, 102.0, 100....</td>\n",
       "      <td>[[101.380005, 99.200005, 101.86, 108.78, 100.2...</td>\n",
       "      <td>0.937304</td>\n",
       "      <td>3.802998</td>\n",
       "      <td>[40.64213562011719, -1.2284171988470858, 12841...</td>\n",
       "      <td>[[0.0, 0.0, 0.0, 0.0, 0.0, 0.0, 0.0, 0.0, 0.0,...</td>\n",
       "      <td>0.083934</td>\n",
       "      <td>0.038912</td>\n",
       "      <td>0.128708</td>\n",
       "      <td>0.032020</td>\n",
       "      <td>0.100869</td>\n",
       "      <td>0.033648</td>\n",
       "      <td>0</td>\n",
       "      <td>[[0.0, 0.0, 0.0, 0.0, 0.0, 0.0, 0.0, 0.0, 0.0,...</td>\n",
       "      <td>2.689415</td>\n",
       "      <td>4.716643</td>\n",
       "      <td>2.457996</td>\n",
       "    </tr>\n",
       "    <tr>\n",
       "      <th>13398</th>\n",
       "      <td>0</td>\n",
       "      <td>3</td>\n",
       "      <td>[[107.0, 98.0, 97.0, 101.0, 99.0, 98.0, 100.0,...</td>\n",
       "      <td>[[99.24, 100.200005, 96.18, 103.98, 97.32, 99....</td>\n",
       "      <td>0.878419</td>\n",
       "      <td>3.220398</td>\n",
       "      <td>[40.63188934326172, -1.2772980134486802, 12839...</td>\n",
       "      <td>[[0.0, 0.0, 0.0, 0.0, 0.0, 0.0, 0.0, 0.0, 0.0,...</td>\n",
       "      <td>0.079344</td>\n",
       "      <td>0.034286</td>\n",
       "      <td>0.128720</td>\n",
       "      <td>0.034540</td>\n",
       "      <td>0.103902</td>\n",
       "      <td>0.033254</td>\n",
       "      <td>0</td>\n",
       "      <td>[[0.0, 0.0, 0.0, 0.0, 0.0, 0.0, 0.0, 0.0, 0.0,...</td>\n",
       "      <td>2.879974</td>\n",
       "      <td>4.372777</td>\n",
       "      <td>2.857520</td>\n",
       "    </tr>\n",
       "    <tr>\n",
       "      <th>13403</th>\n",
       "      <td>0</td>\n",
       "      <td>1</td>\n",
       "      <td>[[96.0, 100.0, 101.0, 99.0, 103.0, 104.0, 102....</td>\n",
       "      <td>[[101.04, 98.82, 97.04, 96.04, 104.86, 102.14,...</td>\n",
       "      <td>0.467933</td>\n",
       "      <td>2.458998</td>\n",
       "      <td>[40.05286407470703, -1.165697736991484, 126624.0]</td>\n",
       "      <td>[[0.0, 0.0, 0.0, 0.0, 0.0, 0.0, 0.0, 0.0, 0.0,...</td>\n",
       "      <td>0.036502</td>\n",
       "      <td>0.068135</td>\n",
       "      <td>0.134834</td>\n",
       "      <td>0.067659</td>\n",
       "      <td>0.115382</td>\n",
       "      <td>0.227544</td>\n",
       "      <td>0</td>\n",
       "      <td>[[0.0, 0.0, 0.0, 0.0, 0.0, 0.0, 0.0, 0.0, 0.0,...</td>\n",
       "      <td>3.559441</td>\n",
       "      <td>2.536374</td>\n",
       "      <td>3.571442</td>\n",
       "    </tr>\n",
       "  </tbody>\n",
       "</table>\n",
       "<p>9028 rows × 19 columns</p>\n",
       "</div>"
      ],
      "text/plain": [
       "       t   e                                            img_250  \\\n",
       "0      1   6  [[105.0, 100.0, 96.0, 103.0, 99.0, 103.0, 103....   \n",
       "1      1  20  [[106.0, 97.0, 98.0, 101.0, 101.0, 101.0, 104....   \n",
       "2      1  20  [[104.0, 101.0, 98.0, 99.0, 103.0, 105.0, 101....   \n",
       "3      1  20  [[95.0, 104.0, 101.0, 99.0, 103.0, 100.0, 98.0...   \n",
       "4      1  20  [[95.0, 100.0, 94.0, 98.0, 98.0, 99.0, 95.0, 1...   \n",
       "...   ..  ..                                                ...   \n",
       "13394  0   3  [[94.0, 107.0, 97.0, 97.0, 101.0, 97.0, 101.0,...   \n",
       "13396  0   3  [[102.0, 99.0, 102.0, 101.0, 101.0, 101.0, 97....   \n",
       "13397  0   3  [[98.0, 100.0, 100.0, 100.0, 98.0, 102.0, 100....   \n",
       "13398  0   3  [[107.0, 98.0, 97.0, 101.0, 99.0, 98.0, 100.0,...   \n",
       "13403  0   1  [[96.0, 100.0, 101.0, 99.0, 103.0, 104.0, 102....   \n",
       "\n",
       "                                                  img_80  circular_ratio  \\\n",
       "0      [[93.04, 105.14, 104.98, 99.520004, 99.14, 104...        0.884146   \n",
       "1      [[100.380005, 100.200005, 102.36, 97.5, 97.62,...        0.925234   \n",
       "2      [[101.14, 101.880005, 102.6, 100.94, 100.92, 1...        0.913313   \n",
       "3      [[96.26, 100.5, 95.42, 97.18, 99.68, 101.42, 1...        0.919255   \n",
       "4      [[98.82, 107.0, 98.66, 102.44, 101.46, 99.54, ...        0.878419   \n",
       "...                                                  ...             ...   \n",
       "13394  [[101.92, 100.3, 97.72, 106.64, 99.520004, 99....        0.884146   \n",
       "13396  [[105.020004, 98.8, 103.6, 110.32, 99.94, 98.6...        0.937304   \n",
       "13397  [[101.380005, 99.200005, 101.86, 108.78, 100.2...        0.937304   \n",
       "13398  [[99.24, 100.200005, 96.18, 103.98, 97.32, 99....        0.878419   \n",
       "13403  [[101.04, 98.82, 97.04, 96.04, 104.86, 102.14,...        0.467933   \n",
       "\n",
       "       bright_sum                                            spector  \\\n",
       "0        3.486998  [40.81663513183594, -1.3736760390376546, 12899...   \n",
       "1       10.607998  [43.46559524536133, -1.3882567428840797, 13651...   \n",
       "2        9.111998  [42.779327392578125, -1.395732821154118, 13459...   \n",
       "3       10.104999  [43.09930419921875, -1.3965786517093128, 13546...   \n",
       "4       12.223998  [44.0062255859375, -1.374916011041052, 137931....   \n",
       "...           ...                                                ...   \n",
       "13394    3.268998  [40.46708679199219, -1.2326699568996422, 12787...   \n",
       "13396    3.569998  [40.59738540649414, -1.2370356048577642, 12826...   \n",
       "13397    3.802998  [40.64213562011719, -1.2284171988470858, 12841...   \n",
       "13398    3.220398  [40.63188934326172, -1.2772980134486802, 12839...   \n",
       "13403    2.458998  [40.05286407470703, -1.165697736991484, 126624.0]   \n",
       "\n",
       "                                             hist_matrix  error_t1e1  \\\n",
       "0      [[0.0, 0.0, 0.0, 0.0, 0.0, 0.0, 0.0, 0.0, 0.0,...    0.089621   \n",
       "1      [[0.0, 0.0, 0.0, 0.0, 0.0, 0.0, 0.0, 0.0, 0.0,...    0.136832   \n",
       "2      [[0.0, 0.0, 0.0, 0.0, 0.0, 0.0, 0.0, 0.0, 0.0,...    0.131731   \n",
       "3      [[0.0, 0.0, 0.0, 0.0, 0.0, 0.0, 0.0, 0.0, 0.0,...    0.134351   \n",
       "4      [[0.0, 0.0, 0.0, 0.0, 0.0, 0.0, 0.0, 0.0, 0.0,...    0.136321   \n",
       "...                                                  ...         ...   \n",
       "13394  [[0.0, 0.0, 0.0, 0.0, 0.0, 0.0, 0.0, 0.0, 0.0,...    0.076895   \n",
       "13396  [[0.0, 0.0, 0.0, 0.0, 0.0, 0.0, 0.0, 0.0, 0.0,...    0.084810   \n",
       "13397  [[0.0, 0.0, 0.0, 0.0, 0.0, 0.0, 0.0, 0.0, 0.0,...    0.083934   \n",
       "13398  [[0.0, 0.0, 0.0, 0.0, 0.0, 0.0, 0.0, 0.0, 0.0,...    0.079344   \n",
       "13403  [[0.0, 0.0, 0.0, 0.0, 0.0, 0.0, 0.0, 0.0, 0.0,...    0.036502   \n",
       "\n",
       "       error_t1e6  error_t1e20  error_t0e3  error_t0e10   predict  \\\n",
       "0        0.032815     0.127006    0.036447     0.101584  0.985262   \n",
       "1        0.128730     0.040113    0.131616     0.064313  0.987338   \n",
       "2        0.116460     0.050482    0.118215     0.052960  0.985203   \n",
       "3        0.123721     0.039474    0.126379     0.053145  0.987338   \n",
       "4        0.128800     0.046150    0.131614     0.072065  0.987347   \n",
       "...           ...          ...         ...          ...       ...   \n",
       "13394    0.033119     0.130850    0.031587     0.105823  0.033417   \n",
       "13396    0.035811     0.128411    0.029992     0.099661  0.034485   \n",
       "13397    0.038912     0.128708    0.032020     0.100869  0.033648   \n",
       "13398    0.034286     0.128720    0.034540     0.103902  0.033254   \n",
       "13403    0.068135     0.134834    0.067659     0.115382  0.227544   \n",
       "\n",
       "       particle_types_predict  \\\n",
       "0                           1   \n",
       "1                           1   \n",
       "2                           1   \n",
       "3                           1   \n",
       "4                           1   \n",
       "...                       ...   \n",
       "13394                       0   \n",
       "13396                       0   \n",
       "13397                       0   \n",
       "13398                       0   \n",
       "13403                       0   \n",
       "\n",
       "                                         img_80_circular  mean_img_error_t1e6  \\\n",
       "0      [[0.0, 0.0, 0.0, 0.0, 0.0, 0.0, 0.0, 0.0, 0.0,...             2.537597   \n",
       "1      [[0.0, 0.0, 0.0, 0.0, 0.0, 0.0, 0.0, 0.0, 0.0,...            25.251123   \n",
       "2      [[0.0, 0.0, 0.0, 0.0, 0.0, 0.0, 0.0, 0.0, 0.0,...            16.600407   \n",
       "3      [[0.0, 0.0, 0.0, 0.0, 0.0, 0.0, 0.0, 0.0, 0.0,...            21.029377   \n",
       "4      [[0.0, 0.0, 0.0, 0.0, 0.0, 0.0, 0.0, 0.0, 0.0,...            34.891815   \n",
       "...                                                  ...                  ...   \n",
       "13394  [[0.0, 0.0, 0.0, 0.0, 0.0, 0.0, 0.0, 0.0, 0.0,...             2.781797   \n",
       "13396  [[0.0, 0.0, 0.0, 0.0, 0.0, 0.0, 0.0, 0.0, 0.0,...             2.846817   \n",
       "13397  [[0.0, 0.0, 0.0, 0.0, 0.0, 0.0, 0.0, 0.0, 0.0,...             2.689415   \n",
       "13398  [[0.0, 0.0, 0.0, 0.0, 0.0, 0.0, 0.0, 0.0, 0.0,...             2.879974   \n",
       "13403  [[0.0, 0.0, 0.0, 0.0, 0.0, 0.0, 0.0, 0.0, 0.0,...             3.559441   \n",
       "\n",
       "       mean_img_error_t1e1  mean_img_error_t0e3  \n",
       "0                 4.341945             2.692320  \n",
       "1                39.071026            25.392618  \n",
       "2                27.623585            16.817171  \n",
       "3                33.446903            21.257915  \n",
       "4                50.991100            35.044594  \n",
       "...                    ...                  ...  \n",
       "13394             4.036243             2.644354  \n",
       "13396             4.894886             2.606159  \n",
       "13397             4.716643             2.457996  \n",
       "13398             4.372777             2.857520  \n",
       "13403             2.536374             3.571442  \n",
       "\n",
       "[9028 rows x 19 columns]"
      ]
     },
     "execution_count": 299,
     "metadata": {},
     "output_type": "execute_result"
    }
   ],
   "source": [
    "df"
   ]
  },
  {
   "cell_type": "code",
   "execution_count": 300,
   "metadata": {},
   "outputs": [
    {
     "data": {
      "image/png": "[encoded data removed]",
      "text/plain": [
       "<Figure size 1440x1440 with 81 Axes>"
      ]
     },
     "metadata": {
      "needs_background": "light"
     },
     "output_type": "display_data"
    }
   ],
   "source": [
    "scatter_matrix(df[['e', 't', 'circular_ratio', 'bright_sum', 'error_t1e1', 'error_t1e6', 'error_t1e20', 'error_t0e3', 'error_t0e10']], alpha=0.05, figsize=(20, 20));"
   ]
  },
  {
   "cell_type": "code",
   "execution_count": 407,
   "metadata": {},
   "outputs": [
    {
     "data": {
      "text/html": [
       "<div>\n",
       "<style scoped>\n",
       "    .dataframe tbody tr th:only-of-type {\n",
       "        vertical-align: middle;\n",
       "    }\n",
       "\n",
       "    .dataframe tbody tr th {\n",
       "        vertical-align: top;\n",
       "    }\n",
       "\n",
       "    .dataframe thead th {\n",
       "        text-align: right;\n",
       "    }\n",
       "</style>\n",
       "<table border=\"1\" class=\"dataframe\">\n",
       "  <thead>\n",
       "    <tr style=\"text-align: right;\">\n",
       "      <th></th>\n",
       "      <th>t</th>\n",
       "      <th>e</th>\n",
       "      <th>img_250</th>\n",
       "      <th>img_80</th>\n",
       "      <th>circular_ratio</th>\n",
       "      <th>bright_sum</th>\n",
       "      <th>spector</th>\n",
       "      <th>hist_matrix</th>\n",
       "      <th>error_t1e1</th>\n",
       "      <th>error_t1e6</th>\n",
       "      <th>error_t1e20</th>\n",
       "      <th>error_t0e3</th>\n",
       "      <th>error_t0e10</th>\n",
       "      <th>predict</th>\n",
       "      <th>particle_types_predict</th>\n",
       "      <th>img_80_circular</th>\n",
       "      <th>mean_img_error_t1e6</th>\n",
       "      <th>mean_img_error_t1e1</th>\n",
       "      <th>mean_img_error_t0e3</th>\n",
       "    </tr>\n",
       "  </thead>\n",
       "  <tbody>\n",
       "    <tr>\n",
       "      <th>0</th>\n",
       "      <td>1</td>\n",
       "      <td>6</td>\n",
       "      <td>[[105.0, 100.0, 96.0, 103.0, 99.0, 103.0, 103....</td>\n",
       "      <td>[[93.04, 105.14, 104.98, 99.520004, 99.14, 104...</td>\n",
       "      <td>0.884146</td>\n",
       "      <td>3.486998</td>\n",
       "      <td>[40.81663513183594, -1.3736760390376546, 12899...</td>\n",
       "      <td>[[0.0, 0.0, 0.0, 0.0, 0.0, 0.0, 0.0, 0.0, 0.0,...</td>\n",
       "      <td>0.089621</td>\n",
       "      <td>0.032815</td>\n",
       "      <td>0.127006</td>\n",
       "      <td>0.036447</td>\n",
       "      <td>0.101584</td>\n",
       "      <td>0.996872</td>\n",
       "      <td>1</td>\n",
       "      <td>[[0.0, 0.0, 0.0, 0.0, 0.0, 0.0, 0.0, 0.0, 0.0,...</td>\n",
       "      <td>2.537597</td>\n",
       "      <td>4.341945</td>\n",
       "      <td>2.692320</td>\n",
       "    </tr>\n",
       "    <tr>\n",
       "      <th>1</th>\n",
       "      <td>1</td>\n",
       "      <td>20</td>\n",
       "      <td>[[106.0, 97.0, 98.0, 101.0, 101.0, 101.0, 104....</td>\n",
       "      <td>[[100.380005, 100.200005, 102.36, 97.5, 97.62,...</td>\n",
       "      <td>0.925234</td>\n",
       "      <td>10.607998</td>\n",
       "      <td>[43.46559524536133, -1.3882567428840797, 13651...</td>\n",
       "      <td>[[0.0, 0.0, 0.0, 0.0, 0.0, 0.0, 0.0, 0.0, 0.0,...</td>\n",
       "      <td>0.136832</td>\n",
       "      <td>0.128730</td>\n",
       "      <td>0.040113</td>\n",
       "      <td>0.131616</td>\n",
       "      <td>0.064313</td>\n",
       "      <td>0.997457</td>\n",
       "      <td>1</td>\n",
       "      <td>[[0.0, 0.0, 0.0, 0.0, 0.0, 0.0, 0.0, 0.0, 0.0,...</td>\n",
       "      <td>25.251123</td>\n",
       "      <td>39.071026</td>\n",
       "      <td>25.392618</td>\n",
       "    </tr>\n",
       "    <tr>\n",
       "      <th>2</th>\n",
       "      <td>1</td>\n",
       "      <td>20</td>\n",
       "      <td>[[104.0, 101.0, 98.0, 99.0, 103.0, 105.0, 101....</td>\n",
       "      <td>[[101.14, 101.880005, 102.6, 100.94, 100.92, 1...</td>\n",
       "      <td>0.913313</td>\n",
       "      <td>9.111998</td>\n",
       "      <td>[42.779327392578125, -1.395732821154118, 13459...</td>\n",
       "      <td>[[0.0, 0.0, 0.0, 0.0, 0.0, 0.0, 0.0, 0.0, 0.0,...</td>\n",
       "      <td>0.131731</td>\n",
       "      <td>0.116460</td>\n",
       "      <td>0.050482</td>\n",
       "      <td>0.118215</td>\n",
       "      <td>0.052960</td>\n",
       "      <td>0.997348</td>\n",
       "      <td>1</td>\n",
       "      <td>[[0.0, 0.0, 0.0, 0.0, 0.0, 0.0, 0.0, 0.0, 0.0,...</td>\n",
       "      <td>16.600407</td>\n",
       "      <td>27.623585</td>\n",
       "      <td>16.817171</td>\n",
       "    </tr>\n",
       "    <tr>\n",
       "      <th>3</th>\n",
       "      <td>1</td>\n",
       "      <td>20</td>\n",
       "      <td>[[95.0, 104.0, 101.0, 99.0, 103.0, 100.0, 98.0...</td>\n",
       "      <td>[[96.26, 100.5, 95.42, 97.18, 99.68, 101.42, 1...</td>\n",
       "      <td>0.919255</td>\n",
       "      <td>10.104999</td>\n",
       "      <td>[43.09930419921875, -1.3965786517093128, 13546...</td>\n",
       "      <td>[[0.0, 0.0, 0.0, 0.0, 0.0, 0.0, 0.0, 0.0, 0.0,...</td>\n",
       "      <td>0.134351</td>\n",
       "      <td>0.123721</td>\n",
       "      <td>0.039474</td>\n",
       "      <td>0.126379</td>\n",
       "      <td>0.053145</td>\n",
       "      <td>0.997457</td>\n",
       "      <td>1</td>\n",
       "      <td>[[0.0, 0.0, 0.0, 0.0, 0.0, 0.0, 0.0, 0.0, 0.0,...</td>\n",
       "      <td>21.029377</td>\n",
       "      <td>33.446903</td>\n",
       "      <td>21.257915</td>\n",
       "    </tr>\n",
       "    <tr>\n",
       "      <th>4</th>\n",
       "      <td>1</td>\n",
       "      <td>20</td>\n",
       "      <td>[[95.0, 100.0, 94.0, 98.0, 98.0, 99.0, 95.0, 1...</td>\n",
       "      <td>[[98.82, 107.0, 98.66, 102.44, 101.46, 99.54, ...</td>\n",
       "      <td>0.878419</td>\n",
       "      <td>12.223998</td>\n",
       "      <td>[44.0062255859375, -1.374916011041052, 137931....</td>\n",
       "      <td>[[0.0, 0.0, 0.0, 0.0, 0.0, 0.0, 0.0, 0.0, 0.0,...</td>\n",
       "      <td>0.136321</td>\n",
       "      <td>0.128800</td>\n",
       "      <td>0.046150</td>\n",
       "      <td>0.131614</td>\n",
       "      <td>0.072065</td>\n",
       "      <td>0.997394</td>\n",
       "      <td>1</td>\n",
       "      <td>[[0.0, 0.0, 0.0, 0.0, 0.0, 0.0, 0.0, 0.0, 0.0,...</td>\n",
       "      <td>34.891815</td>\n",
       "      <td>50.991100</td>\n",
       "      <td>35.044594</td>\n",
       "    </tr>\n",
       "  </tbody>\n",
       "</table>\n",
       "</div>"
      ],
      "text/plain": [
       "   t   e                                            img_250  \\\n",
       "0  1   6  [[105.0, 100.0, 96.0, 103.0, 99.0, 103.0, 103....   \n",
       "1  1  20  [[106.0, 97.0, 98.0, 101.0, 101.0, 101.0, 104....   \n",
       "2  1  20  [[104.0, 101.0, 98.0, 99.0, 103.0, 105.0, 101....   \n",
       "3  1  20  [[95.0, 104.0, 101.0, 99.0, 103.0, 100.0, 98.0...   \n",
       "4  1  20  [[95.0, 100.0, 94.0, 98.0, 98.0, 99.0, 95.0, 1...   \n",
       "\n",
       "                                              img_80  circular_ratio  \\\n",
       "0  [[93.04, 105.14, 104.98, 99.520004, 99.14, 104...        0.884146   \n",
       "1  [[100.380005, 100.200005, 102.36, 97.5, 97.62,...        0.925234   \n",
       "2  [[101.14, 101.880005, 102.6, 100.94, 100.92, 1...        0.913313   \n",
       "3  [[96.26, 100.5, 95.42, 97.18, 99.68, 101.42, 1...        0.919255   \n",
       "4  [[98.82, 107.0, 98.66, 102.44, 101.46, 99.54, ...        0.878419   \n",
       "\n",
       "   bright_sum                                            spector  \\\n",
       "0    3.486998  [40.81663513183594, -1.3736760390376546, 12899...   \n",
       "1   10.607998  [43.46559524536133, -1.3882567428840797, 13651...   \n",
       "2    9.111998  [42.779327392578125, -1.395732821154118, 13459...   \n",
       "3   10.104999  [43.09930419921875, -1.3965786517093128, 13546...   \n",
       "4   12.223998  [44.0062255859375, -1.374916011041052, 137931....   \n",
       "\n",
       "                                         hist_matrix  error_t1e1  error_t1e6  \\\n",
       "0  [[0.0, 0.0, 0.0, 0.0, 0.0, 0.0, 0.0, 0.0, 0.0,...    0.089621    0.032815   \n",
       "1  [[0.0, 0.0, 0.0, 0.0, 0.0, 0.0, 0.0, 0.0, 0.0,...    0.136832    0.128730   \n",
       "2  [[0.0, 0.0, 0.0, 0.0, 0.0, 0.0, 0.0, 0.0, 0.0,...    0.131731    0.116460   \n",
       "3  [[0.0, 0.0, 0.0, 0.0, 0.0, 0.0, 0.0, 0.0, 0.0,...    0.134351    0.123721   \n",
       "4  [[0.0, 0.0, 0.0, 0.0, 0.0, 0.0, 0.0, 0.0, 0.0,...    0.136321    0.128800   \n",
       "\n",
       "   error_t1e20  error_t0e3  error_t0e10   predict  particle_types_predict  \\\n",
       "0     0.127006    0.036447     0.101584  0.996872                       1   \n",
       "1     0.040113    0.131616     0.064313  0.997457                       1   \n",
       "2     0.050482    0.118215     0.052960  0.997348                       1   \n",
       "3     0.039474    0.126379     0.053145  0.997457                       1   \n",
       "4     0.046150    0.131614     0.072065  0.997394                       1   \n",
       "\n",
       "                                     img_80_circular  mean_img_error_t1e6  \\\n",
       "0  [[0.0, 0.0, 0.0, 0.0, 0.0, 0.0, 0.0, 0.0, 0.0,...             2.537597   \n",
       "1  [[0.0, 0.0, 0.0, 0.0, 0.0, 0.0, 0.0, 0.0, 0.0,...            25.251123   \n",
       "2  [[0.0, 0.0, 0.0, 0.0, 0.0, 0.0, 0.0, 0.0, 0.0,...            16.600407   \n",
       "3  [[0.0, 0.0, 0.0, 0.0, 0.0, 0.0, 0.0, 0.0, 0.0,...            21.029377   \n",
       "4  [[0.0, 0.0, 0.0, 0.0, 0.0, 0.0, 0.0, 0.0, 0.0,...            34.891815   \n",
       "\n",
       "   mean_img_error_t1e1  mean_img_error_t0e3  \n",
       "0             4.341945             2.692320  \n",
       "1            39.071026            25.392618  \n",
       "2            27.623585            16.817171  \n",
       "3            33.446903            21.257915  \n",
       "4            50.991100            35.044594  "
      ]
     },
     "execution_count": 407,
     "metadata": {},
     "output_type": "execute_result"
    }
   ],
   "source": [
    "df.head()"
   ]
  },
  {
   "cell_type": "code",
   "execution_count": 416,
   "metadata": {},
   "outputs": [
    {
     "data": {
      "text/plain": [
       "11077    0.548872\n",
       "11269    0.433875\n",
       "13403    0.467933\n",
       "Name: circular_ratio, dtype: float64"
      ]
     },
     "execution_count": 416,
     "metadata": {},
     "output_type": "execute_result"
    }
   ],
   "source": [
    "df[(df.t==0)&(df.e==1)]['circular_ratio']"
   ]
  },
  {
   "cell_type": "code",
   "execution_count": 620,
   "metadata": {},
   "outputs": [
    {
     "name": "stdout",
     "output_type": "stream",
     "text": [
      "2300\n"
     ]
    }
   ],
   "source": [
    "df_ = df[(df.t==0)&(df.e==3) | (df.t==1)&(df.e==6)]\n",
    "df_ = df[(df.t==0)&(df.e==3) | (df.t==1)&(df.e==6) | (df.t==0)&(df.e==10) | (df.t==1)&(df.e==20)]\n",
    "df_ = df[(df.bright_sum<3)&(df.bright_sum<20)]\n",
    "\n",
    "x = df_[['bright_sum', 'circular_ratio', 'error_t1e1', 'error_t1e6', 'error_t1e20', 'error_t0e3', 'error_t0e10']].to_numpy()\n",
    "x = np.concatenate([df_['spector'].to_numpy().tolist(), x], axis=1)\n",
    "y = df_.t.to_numpy().reshape(-1, 1)\n",
    "print(len(x))\n",
    "x_train, x_test, y_train, y_test = train_test_split(x, y, test_size=0.4, random_state=41)"
   ]
  },
  {
   "cell_type": "code",
   "execution_count": 621,
   "metadata": {},
   "outputs": [
    {
     "data": {
      "text/plain": [
       "0.9656521739130435"
      ]
     },
     "execution_count": 621,
     "metadata": {},
     "output_type": "execute_result"
    }
   ],
   "source": [
    "np.mean(y)"
   ]
  },
  {
   "cell_type": "code",
   "execution_count": 622,
   "metadata": {},
   "outputs": [
    {
     "name": "stdout",
     "output_type": "stream",
     "text": [
      "1.0 0.9988751406074241\n"
     ]
    }
   ],
   "source": [
    "particle_types_model = CatBoostClassifier(iterations=100,\n",
    "                          learning_rate=3e-2,\n",
    "                          l2_leaf_reg=3.0,  # any pos value\n",
    "                          depth=5,  # int up to 16\n",
    "                          min_data_in_leaf=1,  # 1,2,3,4,5\n",
    "                          rsm=1,  # 0.01 .. 1.0\n",
    "                          langevin=False,\n",
    "                          task_type=\"GPU\",\n",
    "                          devices='0:1')\n",
    "\n",
    "particle_types_model.fit(x_train, y_train, eval_set=(x_test, y_test), verbose=0)\n",
    "print(roc_auc_score(particle_types_model.predict(x_train), y_train), roc_auc_score(particle_types_model.predict(x_test), y_test))"
   ]
  },
  {
   "cell_type": "markdown",
   "metadata": {},
   "source": [
    "0.9994941831057158 0.999268688530963"
   ]
  },
  {
   "cell_type": "code",
   "execution_count": 623,
   "metadata": {},
   "outputs": [
    {
     "name": "stdout",
     "output_type": "stream",
     "text": [
      "1.0 1.0\n"
     ]
    }
   ],
   "source": [
    "particle_types_model = CatBoostRegressor(iterations=150,\n",
    "                          learning_rate=3e-2,\n",
    "                          l2_leaf_reg=1.0,  # any pos value\n",
    "                          depth=6,  # int up to 16\n",
    "                          min_data_in_leaf=1,  # 1,2,3,4,5\n",
    "                          rsm=1,  # 0.01 .. 1.0\n",
    "                          langevin=False,\n",
    "                          task_type=\"GPU\",\n",
    "                          devices='0:1')\n",
    "\n",
    "particle_types_model.fit(x_train, y_train, eval_set=(x_test, y_test), verbose=0)\n",
    "print(roc_auc_score(particle_types_model.predict(x_train)>0.5, y_train), roc_auc_score(particle_types_model.predict(x_test)>0.5, y_test))"
   ]
  },
  {
   "cell_type": "markdown",
   "metadata": {},
   "source": [
    "0.9994941831057158 0.999268688530963"
   ]
  },
  {
   "cell_type": "code",
   "execution_count": 624,
   "metadata": {},
   "outputs": [
    {
     "name": "stdout",
     "output_type": "stream",
     "text": [
      "0.9766541822721599 0.9810861423220975\n"
     ]
    }
   ],
   "source": [
    "particle_types_model = LinearRegression().fit(x_train, y_train)\n",
    "particle_types_model.score(x_train, y_train)\n",
    "\n",
    "\n",
    "print(roc_auc_score(particle_types_model.predict(x_train)>0.5, y_train), roc_auc_score(particle_types_model.predict(x_test)>0.5, y_test))"
   ]
  },
  {
   "cell_type": "markdown",
   "metadata": {},
   "source": [
    "0.9965376562113499 0.9970495659880614"
   ]
  },
  {
   "cell_type": "code",
   "execution_count": 625,
   "metadata": {},
   "outputs": [
    {
     "name": "stdout",
     "output_type": "stream",
     "text": [
      "1.0 0.9691332718390215\n"
     ]
    },
    {
     "name": "stderr",
     "output_type": "stream",
     "text": [
      "<ipython-input-625-48312a83b91a>:3: DataConversionWarning: A column-vector y was passed when a 1d array was expected. Please change the shape of y to (n_samples,), for example using ravel().\n",
      "  particle_types_model.fit(x_train, y_train)\n"
     ]
    }
   ],
   "source": [
    "from sklearn import ensemble\n",
    "particle_types_model = ensemble.RandomForestClassifier(n_estimators=50, random_state=11)\n",
    "particle_types_model.fit(x_train, y_train)\n",
    "\n",
    "print(roc_auc_score(y_train, particle_types_model.predict(x_train)>0.5), roc_auc_score(y_test, particle_types_model.predict(x_test)>0.5))"
   ]
  },
  {
   "cell_type": "code",
   "execution_count": 626,
   "metadata": {},
   "outputs": [
    {
     "name": "stderr",
     "output_type": "stream",
     "text": [
      "C:\\Users\\Kirill\\anaconda3\\lib\\site-packages\\sklearn\\utils\\validation.py:72: DataConversionWarning: A column-vector y was passed when a 1d array was expected. Please change the shape of y to (n_samples, ), for example using ravel().\n",
      "  return f(**kwargs)\n"
     ]
    },
    {
     "name": "stdout",
     "output_type": "stream",
     "text": [
      "1.0 0.9685695739810735\n"
     ]
    }
   ],
   "source": [
    "from sklearn import ensemble\n",
    "particle_types_model = ensemble.GradientBoostingClassifier(n_estimators=100, random_state=11)\n",
    "particle_types_model.fit(x_train, y_train)\n",
    "\n",
    "print(roc_auc_score(y_train, particle_types_model.predict(x_train)>0.5), roc_auc_score(y_test, particle_types_model.predict(x_test)>0.5))"
   ]
  },
  {
   "cell_type": "code",
   "execution_count": 619,
   "metadata": {},
   "outputs": [
    {
     "name": "stderr",
     "output_type": "stream",
     "text": [
      "<ipython-input-619-d0dca639e5af>:1: SettingWithCopyWarning: \n",
      "A value is trying to be set on a copy of a slice from a DataFrame.\n",
      "Try using .loc[row_indexer,col_indexer] = value instead\n",
      "\n",
      "See the caveats in the documentation: https://pandas.pydata.org/pandas-docs/stable/user_guide/indexing.html#returning-a-view-versus-a-copy\n",
      "  df_['predict'] = particle_types_model.predict(x)\n",
      "<ipython-input-619-d0dca639e5af>:2: SettingWithCopyWarning: \n",
      "A value is trying to be set on a copy of a slice from a DataFrame.\n",
      "Try using .loc[row_indexer,col_indexer] = value instead\n",
      "\n",
      "See the caveats in the documentation: https://pandas.pydata.org/pandas-docs/stable/user_guide/indexing.html#returning-a-view-versus-a-copy\n",
      "  df_['particle_types_predict'] = (particle_types_model.predict(x)>0.5)*1\n"
     ]
    },
    {
     "data": {
      "text/html": [
       "<div>\n",
       "<style scoped>\n",
       "    .dataframe tbody tr th:only-of-type {\n",
       "        vertical-align: middle;\n",
       "    }\n",
       "\n",
       "    .dataframe tbody tr th {\n",
       "        vertical-align: top;\n",
       "    }\n",
       "\n",
       "    .dataframe thead th {\n",
       "        text-align: right;\n",
       "    }\n",
       "</style>\n",
       "<table border=\"1\" class=\"dataframe\">\n",
       "  <thead>\n",
       "    <tr style=\"text-align: right;\">\n",
       "      <th></th>\n",
       "      <th>t</th>\n",
       "      <th>e</th>\n",
       "      <th>img_250</th>\n",
       "      <th>img_80</th>\n",
       "      <th>circular_ratio</th>\n",
       "      <th>bright_sum</th>\n",
       "      <th>spector</th>\n",
       "      <th>hist_matrix</th>\n",
       "      <th>error_t1e1</th>\n",
       "      <th>error_t1e6</th>\n",
       "      <th>error_t1e20</th>\n",
       "      <th>error_t0e3</th>\n",
       "      <th>error_t0e10</th>\n",
       "      <th>predict</th>\n",
       "      <th>particle_types_predict</th>\n",
       "      <th>img_80_circular</th>\n",
       "      <th>mean_img_error_t1e6</th>\n",
       "      <th>mean_img_error_t1e1</th>\n",
       "      <th>mean_img_error_t0e3</th>\n",
       "    </tr>\n",
       "  </thead>\n",
       "  <tbody>\n",
       "    <tr>\n",
       "      <th>1926</th>\n",
       "      <td>1</td>\n",
       "      <td>1</td>\n",
       "      <td>[[104.0, 101.0, 104.0, 96.0, 96.0, 101.0, 104....</td>\n",
       "      <td>[[99.22, 100.4, 102.3, 95.86, 98.42, 100.66, 9...</td>\n",
       "      <td>0.417431</td>\n",
       "      <td>2.446998</td>\n",
       "      <td>[40.132781982421875, -1.3543637304764375, 1268...</td>\n",
       "      <td>[[0.0, 0.0, 0.0, 0.0, 0.0, 0.0, 0.0, 0.0, 0.0,...</td>\n",
       "      <td>0.033956</td>\n",
       "      <td>0.066797</td>\n",
       "      <td>0.134355</td>\n",
       "      <td>0.067024</td>\n",
       "      <td>0.115832</td>\n",
       "      <td>0</td>\n",
       "      <td>0</td>\n",
       "      <td>[[0.0, 0.0, 0.0, 0.0, 0.0, 0.0, 0.0, 0.0, 0.0,...</td>\n",
       "      <td>3.584788</td>\n",
       "      <td>2.628072</td>\n",
       "      <td>3.703369</td>\n",
       "    </tr>\n",
       "    <tr>\n",
       "      <th>11077</th>\n",
       "      <td>0</td>\n",
       "      <td>1</td>\n",
       "      <td>[[103.0, 99.0, 99.0, 98.0, 96.0, 102.0, 102.0,...</td>\n",
       "      <td>[[103.14, 107.28, 97.72, 104.16, 108.36, 99.5,...</td>\n",
       "      <td>0.548872</td>\n",
       "      <td>2.636998</td>\n",
       "      <td>[40.123863220214844, -1.2386152952122202, 1268...</td>\n",
       "      <td>[[0.0, 0.0, 0.0, 0.0, 0.0, 0.0, 0.0, 0.0, 0.0,...</td>\n",
       "      <td>0.039771</td>\n",
       "      <td>0.068613</td>\n",
       "      <td>0.134822</td>\n",
       "      <td>0.068321</td>\n",
       "      <td>0.116498</td>\n",
       "      <td>1</td>\n",
       "      <td>1</td>\n",
       "      <td>[[0.0, 0.0, 0.0, 0.0, 0.0, 0.0, 0.0, 0.0, 0.0,...</td>\n",
       "      <td>3.329129</td>\n",
       "      <td>2.474591</td>\n",
       "      <td>3.377890</td>\n",
       "    </tr>\n",
       "    <tr>\n",
       "      <th>13403</th>\n",
       "      <td>0</td>\n",
       "      <td>1</td>\n",
       "      <td>[[96.0, 100.0, 101.0, 99.0, 103.0, 104.0, 102....</td>\n",
       "      <td>[[101.04, 98.82, 97.04, 96.04, 104.86, 102.14,...</td>\n",
       "      <td>0.467933</td>\n",
       "      <td>2.458998</td>\n",
       "      <td>[40.05286407470703, -1.165697736991484, 126624.0]</td>\n",
       "      <td>[[0.0, 0.0, 0.0, 0.0, 0.0, 0.0, 0.0, 0.0, 0.0,...</td>\n",
       "      <td>0.036502</td>\n",
       "      <td>0.068135</td>\n",
       "      <td>0.134834</td>\n",
       "      <td>0.067659</td>\n",
       "      <td>0.115382</td>\n",
       "      <td>1</td>\n",
       "      <td>1</td>\n",
       "      <td>[[0.0, 0.0, 0.0, 0.0, 0.0, 0.0, 0.0, 0.0, 0.0,...</td>\n",
       "      <td>3.559441</td>\n",
       "      <td>2.536374</td>\n",
       "      <td>3.571442</td>\n",
       "    </tr>\n",
       "  </tbody>\n",
       "</table>\n",
       "</div>"
      ],
      "text/plain": [
       "       t  e                                            img_250  \\\n",
       "1926   1  1  [[104.0, 101.0, 104.0, 96.0, 96.0, 101.0, 104....   \n",
       "11077  0  1  [[103.0, 99.0, 99.0, 98.0, 96.0, 102.0, 102.0,...   \n",
       "13403  0  1  [[96.0, 100.0, 101.0, 99.0, 103.0, 104.0, 102....   \n",
       "\n",
       "                                                  img_80  circular_ratio  \\\n",
       "1926   [[99.22, 100.4, 102.3, 95.86, 98.42, 100.66, 9...        0.417431   \n",
       "11077  [[103.14, 107.28, 97.72, 104.16, 108.36, 99.5,...        0.548872   \n",
       "13403  [[101.04, 98.82, 97.04, 96.04, 104.86, 102.14,...        0.467933   \n",
       "\n",
       "       bright_sum                                            spector  \\\n",
       "1926     2.446998  [40.132781982421875, -1.3543637304764375, 1268...   \n",
       "11077    2.636998  [40.123863220214844, -1.2386152952122202, 1268...   \n",
       "13403    2.458998  [40.05286407470703, -1.165697736991484, 126624.0]   \n",
       "\n",
       "                                             hist_matrix  error_t1e1  \\\n",
       "1926   [[0.0, 0.0, 0.0, 0.0, 0.0, 0.0, 0.0, 0.0, 0.0,...    0.033956   \n",
       "11077  [[0.0, 0.0, 0.0, 0.0, 0.0, 0.0, 0.0, 0.0, 0.0,...    0.039771   \n",
       "13403  [[0.0, 0.0, 0.0, 0.0, 0.0, 0.0, 0.0, 0.0, 0.0,...    0.036502   \n",
       "\n",
       "       error_t1e6  error_t1e20  error_t0e3  error_t0e10  predict  \\\n",
       "1926     0.066797     0.134355    0.067024     0.115832        0   \n",
       "11077    0.068613     0.134822    0.068321     0.116498        1   \n",
       "13403    0.068135     0.134834    0.067659     0.115382        1   \n",
       "\n",
       "       particle_types_predict  \\\n",
       "1926                        0   \n",
       "11077                       1   \n",
       "13403                       1   \n",
       "\n",
       "                                         img_80_circular  mean_img_error_t1e6  \\\n",
       "1926   [[0.0, 0.0, 0.0, 0.0, 0.0, 0.0, 0.0, 0.0, 0.0,...             3.584788   \n",
       "11077  [[0.0, 0.0, 0.0, 0.0, 0.0, 0.0, 0.0, 0.0, 0.0,...             3.329129   \n",
       "13403  [[0.0, 0.0, 0.0, 0.0, 0.0, 0.0, 0.0, 0.0, 0.0,...             3.559441   \n",
       "\n",
       "       mean_img_error_t1e1  mean_img_error_t0e3  \n",
       "1926              2.628072             3.703369  \n",
       "11077             2.474591             3.377890  \n",
       "13403             2.536374             3.571442  "
      ]
     },
     "execution_count": 619,
     "metadata": {},
     "output_type": "execute_result"
    }
   ],
   "source": [
    "df_['predict'] = particle_types_model.predict(x)\n",
    "df_['particle_types_predict'] = (particle_types_model.predict(x)>0.5)*1\n",
    "df_[df_.t!=df_.particle_types_predict]#.head()"
   ]
  },
  {
   "cell_type": "code",
   "execution_count": 607,
   "metadata": {},
   "outputs": [
    {
     "data": {
      "text/html": [
       "<div>\n",
       "<style scoped>\n",
       "    .dataframe tbody tr th:only-of-type {\n",
       "        vertical-align: middle;\n",
       "    }\n",
       "\n",
       "    .dataframe tbody tr th {\n",
       "        vertical-align: top;\n",
       "    }\n",
       "\n",
       "    .dataframe thead th {\n",
       "        text-align: right;\n",
       "    }\n",
       "</style>\n",
       "<table border=\"1\" class=\"dataframe\">\n",
       "  <thead>\n",
       "    <tr style=\"text-align: right;\">\n",
       "      <th></th>\n",
       "      <th>t</th>\n",
       "      <th>e</th>\n",
       "      <th>img_250</th>\n",
       "      <th>img_80</th>\n",
       "      <th>circular_ratio</th>\n",
       "      <th>bright_sum</th>\n",
       "      <th>spector</th>\n",
       "      <th>hist_matrix</th>\n",
       "      <th>error_t1e1</th>\n",
       "      <th>error_t1e6</th>\n",
       "      <th>error_t1e20</th>\n",
       "      <th>error_t0e3</th>\n",
       "      <th>error_t0e10</th>\n",
       "      <th>predict</th>\n",
       "      <th>particle_types_predict</th>\n",
       "      <th>img_80_circular</th>\n",
       "      <th>mean_img_error_t1e6</th>\n",
       "      <th>mean_img_error_t1e1</th>\n",
       "      <th>mean_img_error_t0e3</th>\n",
       "    </tr>\n",
       "  </thead>\n",
       "  <tbody>\n",
       "  </tbody>\n",
       "</table>\n",
       "</div>"
      ],
      "text/plain": [
       "Empty DataFrame\n",
       "Columns: [t, e, img_250, img_80, circular_ratio, bright_sum, spector, hist_matrix, error_t1e1, error_t1e6, error_t1e20, error_t0e3, error_t0e10, predict, particle_types_predict, img_80_circular, mean_img_error_t1e6, mean_img_error_t1e1, mean_img_error_t0e3]\n",
       "Index: []"
      ]
     },
     "execution_count": 607,
     "metadata": {},
     "output_type": "execute_result"
    }
   ],
   "source": [
    "df[(df.t==0)&(df.e==6)]"
   ]
  },
  {
   "cell_type": "code",
   "execution_count": 608,
   "metadata": {},
   "outputs": [
    {
     "name": "stdout",
     "output_type": "stream",
     "text": [
      "[[1]\n",
      " [1]]\n"
     ]
    },
    {
     "data": {
      "text/plain": [
       "array([1, 1], dtype=int64)"
      ]
     },
     "execution_count": 608,
     "metadata": {},
     "output_type": "execute_result"
    }
   ],
   "source": [
    "df_ = df[(df.t==0)&(df.e==6) | (df.t==1)&(df.e==10)]\n",
    "\n",
    "x = df_[['bright_sum', 'circular_ratio', 'error_t1e1', 'error_t1e6', 'error_t1e20', 'error_t0e3', 'error_t0e10']].to_numpy()\n",
    "x = np.concatenate([df_['spector'].to_numpy().tolist(), x], axis=1)\n",
    "y = df_.t.to_numpy().reshape(-1, 1)\n",
    "\n",
    "print(y)\n",
    "particle_types_model.predict(x)"
   ]
  },
  {
   "cell_type": "code",
   "execution_count": null,
   "metadata": {},
   "outputs": [],
   "source": []
  },
  {
   "cell_type": "code",
   "execution_count": 591,
   "metadata": {},
   "outputs": [
    {
     "data": {
      "image/png": "[encoded data removed]",
      "text/plain": [
       "<Figure size 1800x288 with 1 Axes>"
      ]
     },
     "metadata": {
      "needs_background": "light"
     },
     "output_type": "display_data"
    },
    {
     "data": {
      "image/png": "[encoded data removed]",
      "text/plain": [
       "<Figure size 1800x288 with 1 Axes>"
      ]
     },
     "metadata": {
      "needs_background": "light"
     },
     "output_type": "display_data"
    }
   ],
   "source": [
    "plt.rcParams[\"figure.figsize\"] = (25, 4)\n",
    "plt.hist(particle_types_model.predict(x_test[y_test.reshape(-1)==0]), bins=200, alpha=0.5, range=(-0.5, 1.5), log=True)\n",
    "plt.hist(particle_types_model.predict(x_test[y_test.reshape(-1)==1]), bins=200, alpha=0.5, range=(-0.5, 1.5), log=True)\n",
    "plt.show()\n",
    "\n",
    "plt.hist(particle_types_model.predict(x_train[y_train.reshape(-1)==0]), bins=200, alpha=0.5, range=(-0.5, 1.5), log=True)\n",
    "plt.hist(particle_types_model.predict(x_train[y_train.reshape(-1)==1]), bins=200, alpha=0.5, range=(-0.5, 1.5), log=True)\n",
    "plt.show()"
   ]
  },
  {
   "cell_type": "code",
   "execution_count": 465,
   "metadata": {},
   "outputs": [],
   "source": [
    "x = df[['bright_sum', 'circular_ratio', 'error_t1e1', 'error_t1e6', 'error_t1e20', 'error_t0e3', 'error_t0e10']].to_numpy()\n",
    "x = np.concatenate([df['spector'].to_numpy().tolist(), x], axis=1)\n",
    "y = df.t.to_numpy().reshape(-1, 1)\n",
    "x_train, x_test, y_train, y_test = train_test_split(x, y, test_size=0.4, random_state=41)"
   ]
  },
  {
   "cell_type": "code",
   "execution_count": 466,
   "metadata": {},
   "outputs": [
    {
     "data": {
      "text/html": [
       "<div>\n",
       "<style scoped>\n",
       "    .dataframe tbody tr th:only-of-type {\n",
       "        vertical-align: middle;\n",
       "    }\n",
       "\n",
       "    .dataframe tbody tr th {\n",
       "        vertical-align: top;\n",
       "    }\n",
       "\n",
       "    .dataframe thead th {\n",
       "        text-align: right;\n",
       "    }\n",
       "</style>\n",
       "<table border=\"1\" class=\"dataframe\">\n",
       "  <thead>\n",
       "    <tr style=\"text-align: right;\">\n",
       "      <th></th>\n",
       "      <th>t</th>\n",
       "      <th>e</th>\n",
       "      <th>img_250</th>\n",
       "      <th>img_80</th>\n",
       "      <th>circular_ratio</th>\n",
       "      <th>bright_sum</th>\n",
       "      <th>spector</th>\n",
       "      <th>hist_matrix</th>\n",
       "      <th>error_t1e1</th>\n",
       "      <th>error_t1e6</th>\n",
       "      <th>error_t1e20</th>\n",
       "      <th>error_t0e3</th>\n",
       "      <th>error_t0e10</th>\n",
       "      <th>predict</th>\n",
       "      <th>particle_types_predict</th>\n",
       "      <th>img_80_circular</th>\n",
       "      <th>mean_img_error_t1e6</th>\n",
       "      <th>mean_img_error_t1e1</th>\n",
       "      <th>mean_img_error_t0e3</th>\n",
       "    </tr>\n",
       "  </thead>\n",
       "  <tbody>\n",
       "    <tr>\n",
       "      <th>30</th>\n",
       "      <td>1</td>\n",
       "      <td>1</td>\n",
       "      <td>[[102.0, 98.0, 103.0, 103.0, 99.0, 101.0, 97.0...</td>\n",
       "      <td>[[100.82, 99.840004, 100.08, 97.08, 93.48, 103...</td>\n",
       "      <td>0.000000</td>\n",
       "      <td>2.318998</td>\n",
       "      <td>[39.99409103393555, -1.0479287395100108, 12644...</td>\n",
       "      <td>[[0.0, 0.0, 0.0, 0.0, 0.0, 0.0, 0.0, 0.0, 0.0,...</td>\n",
       "      <td>0.025265</td>\n",
       "      <td>0.085869</td>\n",
       "      <td>0.136429</td>\n",
       "      <td>0.082484</td>\n",
       "      <td>0.120419</td>\n",
       "      <td>0</td>\n",
       "      <td>0</td>\n",
       "      <td>[[0.0, 0.0, 0.0, 0.0, 0.0, 0.0, 0.0, 0.0, 0.0,...</td>\n",
       "      <td>4.167285</td>\n",
       "      <td>2.399660</td>\n",
       "      <td>4.269996</td>\n",
       "    </tr>\n",
       "    <tr>\n",
       "      <th>37</th>\n",
       "      <td>1</td>\n",
       "      <td>1</td>\n",
       "      <td>[[103.0, 102.0, 100.0, 104.0, 100.0, 98.0, 102...</td>\n",
       "      <td>[[99.92, 99.04, 106.1, 106.68, 101.74, 99.96, ...</td>\n",
       "      <td>0.063683</td>\n",
       "      <td>2.160998</td>\n",
       "      <td>[40.05784225463867, -1.2906229740125195, 12664...</td>\n",
       "      <td>[[0.0, 0.0, 0.0, 0.0, 0.0, 0.0, 0.0, 0.0, 0.0,...</td>\n",
       "      <td>0.028037</td>\n",
       "      <td>0.079938</td>\n",
       "      <td>0.135616</td>\n",
       "      <td>0.077522</td>\n",
       "      <td>0.117973</td>\n",
       "      <td>0</td>\n",
       "      <td>0</td>\n",
       "      <td>[[0.0, 0.0, 0.0, 0.0, 0.0, 0.0, 0.0, 0.0, 0.0,...</td>\n",
       "      <td>3.903189</td>\n",
       "      <td>2.486532</td>\n",
       "      <td>4.033217</td>\n",
       "    </tr>\n",
       "    <tr>\n",
       "      <th>47</th>\n",
       "      <td>1</td>\n",
       "      <td>1</td>\n",
       "      <td>[[102.0, 102.0, 103.0, 99.0, 97.0, 100.0, 98.0...</td>\n",
       "      <td>[[99.9, 98.22, 97.96, 105.74, 91.16, 97.96, 99...</td>\n",
       "      <td>0.033445</td>\n",
       "      <td>2.570998</td>\n",
       "      <td>[39.90823745727539, -1.2679814603053217, 12617...</td>\n",
       "      <td>[[0.0, 0.0, 0.0, 0.0, 0.0, 0.0, 0.0, 0.0, 0.0,...</td>\n",
       "      <td>0.028582</td>\n",
       "      <td>0.093533</td>\n",
       "      <td>0.135853</td>\n",
       "      <td>0.090129</td>\n",
       "      <td>0.119842</td>\n",
       "      <td>0</td>\n",
       "      <td>0</td>\n",
       "      <td>[[0.0, 0.0, 0.0, 0.0, 0.0, 0.0, 0.0, 0.0, 0.0,...</td>\n",
       "      <td>4.195437</td>\n",
       "      <td>2.299465</td>\n",
       "      <td>4.329398</td>\n",
       "    </tr>\n",
       "    <tr>\n",
       "      <th>48</th>\n",
       "      <td>1</td>\n",
       "      <td>1</td>\n",
       "      <td>[[107.0, 100.0, 100.0, 102.0, 98.0, 104.0, 113...</td>\n",
       "      <td>[[100.74, 100.86, 101.44, 103.98, 101.1, 101.3...</td>\n",
       "      <td>0.138122</td>\n",
       "      <td>2.273998</td>\n",
       "      <td>[40.00914001464844, -0.932954247119345, 126492...</td>\n",
       "      <td>[[0.0, 0.0, 0.0, 0.0, 0.0, 0.0, 0.0, 0.0, 0.0,...</td>\n",
       "      <td>0.027578</td>\n",
       "      <td>0.080708</td>\n",
       "      <td>0.137011</td>\n",
       "      <td>0.078263</td>\n",
       "      <td>0.120259</td>\n",
       "      <td>0</td>\n",
       "      <td>0</td>\n",
       "      <td>[[0.0, 0.0, 0.0, 0.0, 0.0, 0.0, 0.0, 0.0, 0.0,...</td>\n",
       "      <td>4.104474</td>\n",
       "      <td>2.428232</td>\n",
       "      <td>4.178372</td>\n",
       "    </tr>\n",
       "    <tr>\n",
       "      <th>61</th>\n",
       "      <td>1</td>\n",
       "      <td>1</td>\n",
       "      <td>[[96.0, 103.0, 96.0, 103.0, 101.0, 100.0, 101....</td>\n",
       "      <td>[[99.46, 96.200005, 100.020004, 93.58, 100.74,...</td>\n",
       "      <td>0.373333</td>\n",
       "      <td>2.474998</td>\n",
       "      <td>[40.06721496582031, -1.2931186380395279, 12667...</td>\n",
       "      <td>[[0.0, 0.0, 0.0, 0.0, 0.0, 0.0, 0.0, 0.0, 0.0,...</td>\n",
       "      <td>0.031189</td>\n",
       "      <td>0.075753</td>\n",
       "      <td>0.134923</td>\n",
       "      <td>0.075055</td>\n",
       "      <td>0.118288</td>\n",
       "      <td>0</td>\n",
       "      <td>0</td>\n",
       "      <td>[[0.0, 0.0, 0.0, 0.0, 0.0, 0.0, 0.0, 0.0, 0.0,...</td>\n",
       "      <td>3.776497</td>\n",
       "      <td>2.484454</td>\n",
       "      <td>3.872011</td>\n",
       "    </tr>\n",
       "    <tr>\n",
       "      <th>...</th>\n",
       "      <td>...</td>\n",
       "      <td>...</td>\n",
       "      <td>...</td>\n",
       "      <td>...</td>\n",
       "      <td>...</td>\n",
       "      <td>...</td>\n",
       "      <td>...</td>\n",
       "      <td>...</td>\n",
       "      <td>...</td>\n",
       "      <td>...</td>\n",
       "      <td>...</td>\n",
       "      <td>...</td>\n",
       "      <td>...</td>\n",
       "      <td>...</td>\n",
       "      <td>...</td>\n",
       "      <td>...</td>\n",
       "      <td>...</td>\n",
       "      <td>...</td>\n",
       "      <td>...</td>\n",
       "    </tr>\n",
       "    <tr>\n",
       "      <th>6610</th>\n",
       "      <td>1</td>\n",
       "      <td>1</td>\n",
       "      <td>[[108.0, 100.0, 100.0, 105.0, 91.0, 104.0, 102...</td>\n",
       "      <td>[[98.86, 99.54, 100.78, 99.8, 99.700005, 101.0...</td>\n",
       "      <td>0.078534</td>\n",
       "      <td>2.368998</td>\n",
       "      <td>[39.963226318359375, -1.099679292783862, 12635...</td>\n",
       "      <td>[[0.0, 0.0, 0.0, 0.0, 0.0, 0.0, 0.0, 0.0, 0.0,...</td>\n",
       "      <td>0.028078</td>\n",
       "      <td>0.085115</td>\n",
       "      <td>0.136214</td>\n",
       "      <td>0.082104</td>\n",
       "      <td>0.119065</td>\n",
       "      <td>0</td>\n",
       "      <td>0</td>\n",
       "      <td>[[0.0, 0.0, 0.0, 0.0, 0.0, 0.0, 0.0, 0.0, 0.0,...</td>\n",
       "      <td>3.990339</td>\n",
       "      <td>2.207825</td>\n",
       "      <td>4.089845</td>\n",
       "    </tr>\n",
       "    <tr>\n",
       "      <th>6641</th>\n",
       "      <td>1</td>\n",
       "      <td>1</td>\n",
       "      <td>[[101.0, 102.0, 98.0, 98.0, 99.0, 98.0, 102.0,...</td>\n",
       "      <td>[[105.62, 103.22, 99.060005, 90.04, 93.98, 102...</td>\n",
       "      <td>0.000000</td>\n",
       "      <td>2.479998</td>\n",
       "      <td>[39.9007453918457, -1.1220124999830863, 126156...</td>\n",
       "      <td>[[0.0, 0.0, 0.0, 0.0, 0.0, 0.0, 0.0, 0.0, 0.0,...</td>\n",
       "      <td>0.026082</td>\n",
       "      <td>0.085077</td>\n",
       "      <td>0.136613</td>\n",
       "      <td>0.083282</td>\n",
       "      <td>0.120382</td>\n",
       "      <td>0</td>\n",
       "      <td>0</td>\n",
       "      <td>[[0.0, 0.0, 0.0, 0.0, 0.0, 0.0, 0.0, 0.0, 0.0,...</td>\n",
       "      <td>4.081349</td>\n",
       "      <td>2.244835</td>\n",
       "      <td>4.123868</td>\n",
       "    </tr>\n",
       "    <tr>\n",
       "      <th>6645</th>\n",
       "      <td>1</td>\n",
       "      <td>1</td>\n",
       "      <td>[[107.0, 105.0, 99.0, 106.0, 101.0, 104.0, 101...</td>\n",
       "      <td>[[100.0, 100.54, 98.86, 103.6, 100.78, 99.5600...</td>\n",
       "      <td>0.040404</td>\n",
       "      <td>2.176998</td>\n",
       "      <td>[40.01716232299805, -1.2975803560279782, 12652...</td>\n",
       "      <td>[[0.0, 0.0, 0.0, 0.0, 0.0, 0.0, 0.0, 0.0, 0.0,...</td>\n",
       "      <td>0.026410</td>\n",
       "      <td>0.084135</td>\n",
       "      <td>0.136213</td>\n",
       "      <td>0.082640</td>\n",
       "      <td>0.119172</td>\n",
       "      <td>0</td>\n",
       "      <td>0</td>\n",
       "      <td>[[0.0, 0.0, 0.0, 0.0, 0.0, 0.0, 0.0, 0.0, 0.0,...</td>\n",
       "      <td>4.138088</td>\n",
       "      <td>2.346990</td>\n",
       "      <td>4.264959</td>\n",
       "    </tr>\n",
       "    <tr>\n",
       "      <th>6816</th>\n",
       "      <td>0</td>\n",
       "      <td>3</td>\n",
       "      <td>[[97.0, 101.0, 100.0, 100.0, 101.0, 101.0, 98....</td>\n",
       "      <td>[[100.68, 98.26, 100.32, 107.94, 105.74, 99.68...</td>\n",
       "      <td>0.828402</td>\n",
       "      <td>2.988998</td>\n",
       "      <td>[40.48601531982422, -1.319045003768553, 127952...</td>\n",
       "      <td>[[0.0, 0.0, 0.0, 0.0, 0.0, 0.0, 0.0, 0.0, 0.0,...</td>\n",
       "      <td>0.072584</td>\n",
       "      <td>0.033282</td>\n",
       "      <td>0.130331</td>\n",
       "      <td>0.036614</td>\n",
       "      <td>0.105730</td>\n",
       "      <td>1</td>\n",
       "      <td>1</td>\n",
       "      <td>[[0.0, 0.0, 0.0, 0.0, 0.0, 0.0, 0.0, 0.0, 0.0,...</td>\n",
       "      <td>2.943730</td>\n",
       "      <td>3.760436</td>\n",
       "      <td>2.937066</td>\n",
       "    </tr>\n",
       "    <tr>\n",
       "      <th>12858</th>\n",
       "      <td>0</td>\n",
       "      <td>30</td>\n",
       "      <td>[[104.0, 100.0, 91.0, 100.0, 97.0, 100.0, 95.0...</td>\n",
       "      <td>[[99.22, 99.880005, 100.200005, 100.96, 99.560...</td>\n",
       "      <td>0.828402</td>\n",
       "      <td>20.727000</td>\n",
       "      <td>[47.380523681640625, -1.388175684176485, 14660...</td>\n",
       "      <td>[[0.0, 0.0, 0.0, 0.0, 0.0, 0.0, 0.0, 0.0, 0.0,...</td>\n",
       "      <td>0.126000</td>\n",
       "      <td>0.123141</td>\n",
       "      <td>0.089889</td>\n",
       "      <td>0.124766</td>\n",
       "      <td>0.105499</td>\n",
       "      <td>1</td>\n",
       "      <td>1</td>\n",
       "      <td>[[0.0, 0.0, 0.0, 0.0, 0.0, 0.0, 0.0, 0.0, 0.0,...</td>\n",
       "      <td>118.197586</td>\n",
       "      <td>146.014847</td>\n",
       "      <td>117.811119</td>\n",
       "    </tr>\n",
       "  </tbody>\n",
       "</table>\n",
       "<p>771 rows × 19 columns</p>\n",
       "</div>"
      ],
      "text/plain": [
       "       t   e                                            img_250  \\\n",
       "30     1   1  [[102.0, 98.0, 103.0, 103.0, 99.0, 101.0, 97.0...   \n",
       "37     1   1  [[103.0, 102.0, 100.0, 104.0, 100.0, 98.0, 102...   \n",
       "47     1   1  [[102.0, 102.0, 103.0, 99.0, 97.0, 100.0, 98.0...   \n",
       "48     1   1  [[107.0, 100.0, 100.0, 102.0, 98.0, 104.0, 113...   \n",
       "61     1   1  [[96.0, 103.0, 96.0, 103.0, 101.0, 100.0, 101....   \n",
       "...   ..  ..                                                ...   \n",
       "6610   1   1  [[108.0, 100.0, 100.0, 105.0, 91.0, 104.0, 102...   \n",
       "6641   1   1  [[101.0, 102.0, 98.0, 98.0, 99.0, 98.0, 102.0,...   \n",
       "6645   1   1  [[107.0, 105.0, 99.0, 106.0, 101.0, 104.0, 101...   \n",
       "6816   0   3  [[97.0, 101.0, 100.0, 100.0, 101.0, 101.0, 98....   \n",
       "12858  0  30  [[104.0, 100.0, 91.0, 100.0, 97.0, 100.0, 95.0...   \n",
       "\n",
       "                                                  img_80  circular_ratio  \\\n",
       "30     [[100.82, 99.840004, 100.08, 97.08, 93.48, 103...        0.000000   \n",
       "37     [[99.92, 99.04, 106.1, 106.68, 101.74, 99.96, ...        0.063683   \n",
       "47     [[99.9, 98.22, 97.96, 105.74, 91.16, 97.96, 99...        0.033445   \n",
       "48     [[100.74, 100.86, 101.44, 103.98, 101.1, 101.3...        0.138122   \n",
       "61     [[99.46, 96.200005, 100.020004, 93.58, 100.74,...        0.373333   \n",
       "...                                                  ...             ...   \n",
       "6610   [[98.86, 99.54, 100.78, 99.8, 99.700005, 101.0...        0.078534   \n",
       "6641   [[105.62, 103.22, 99.060005, 90.04, 93.98, 102...        0.000000   \n",
       "6645   [[100.0, 100.54, 98.86, 103.6, 100.78, 99.5600...        0.040404   \n",
       "6816   [[100.68, 98.26, 100.32, 107.94, 105.74, 99.68...        0.828402   \n",
       "12858  [[99.22, 99.880005, 100.200005, 100.96, 99.560...        0.828402   \n",
       "\n",
       "       bright_sum                                            spector  \\\n",
       "30       2.318998  [39.99409103393555, -1.0479287395100108, 12644...   \n",
       "37       2.160998  [40.05784225463867, -1.2906229740125195, 12664...   \n",
       "47       2.570998  [39.90823745727539, -1.2679814603053217, 12617...   \n",
       "48       2.273998  [40.00914001464844, -0.932954247119345, 126492...   \n",
       "61       2.474998  [40.06721496582031, -1.2931186380395279, 12667...   \n",
       "...           ...                                                ...   \n",
       "6610     2.368998  [39.963226318359375, -1.099679292783862, 12635...   \n",
       "6641     2.479998  [39.9007453918457, -1.1220124999830863, 126156...   \n",
       "6645     2.176998  [40.01716232299805, -1.2975803560279782, 12652...   \n",
       "6816     2.988998  [40.48601531982422, -1.319045003768553, 127952...   \n",
       "12858   20.727000  [47.380523681640625, -1.388175684176485, 14660...   \n",
       "\n",
       "                                             hist_matrix  error_t1e1  \\\n",
       "30     [[0.0, 0.0, 0.0, 0.0, 0.0, 0.0, 0.0, 0.0, 0.0,...    0.025265   \n",
       "37     [[0.0, 0.0, 0.0, 0.0, 0.0, 0.0, 0.0, 0.0, 0.0,...    0.028037   \n",
       "47     [[0.0, 0.0, 0.0, 0.0, 0.0, 0.0, 0.0, 0.0, 0.0,...    0.028582   \n",
       "48     [[0.0, 0.0, 0.0, 0.0, 0.0, 0.0, 0.0, 0.0, 0.0,...    0.027578   \n",
       "61     [[0.0, 0.0, 0.0, 0.0, 0.0, 0.0, 0.0, 0.0, 0.0,...    0.031189   \n",
       "...                                                  ...         ...   \n",
       "6610   [[0.0, 0.0, 0.0, 0.0, 0.0, 0.0, 0.0, 0.0, 0.0,...    0.028078   \n",
       "6641   [[0.0, 0.0, 0.0, 0.0, 0.0, 0.0, 0.0, 0.0, 0.0,...    0.026082   \n",
       "6645   [[0.0, 0.0, 0.0, 0.0, 0.0, 0.0, 0.0, 0.0, 0.0,...    0.026410   \n",
       "6816   [[0.0, 0.0, 0.0, 0.0, 0.0, 0.0, 0.0, 0.0, 0.0,...    0.072584   \n",
       "12858  [[0.0, 0.0, 0.0, 0.0, 0.0, 0.0, 0.0, 0.0, 0.0,...    0.126000   \n",
       "\n",
       "       error_t1e6  error_t1e20  error_t0e3  error_t0e10  predict  \\\n",
       "30       0.085869     0.136429    0.082484     0.120419        0   \n",
       "37       0.079938     0.135616    0.077522     0.117973        0   \n",
       "47       0.093533     0.135853    0.090129     0.119842        0   \n",
       "48       0.080708     0.137011    0.078263     0.120259        0   \n",
       "61       0.075753     0.134923    0.075055     0.118288        0   \n",
       "...           ...          ...         ...          ...      ...   \n",
       "6610     0.085115     0.136214    0.082104     0.119065        0   \n",
       "6641     0.085077     0.136613    0.083282     0.120382        0   \n",
       "6645     0.084135     0.136213    0.082640     0.119172        0   \n",
       "6816     0.033282     0.130331    0.036614     0.105730        1   \n",
       "12858    0.123141     0.089889    0.124766     0.105499        1   \n",
       "\n",
       "       particle_types_predict  \\\n",
       "30                          0   \n",
       "37                          0   \n",
       "47                          0   \n",
       "48                          0   \n",
       "61                          0   \n",
       "...                       ...   \n",
       "6610                        0   \n",
       "6641                        0   \n",
       "6645                        0   \n",
       "6816                        1   \n",
       "12858                       1   \n",
       "\n",
       "                                         img_80_circular  mean_img_error_t1e6  \\\n",
       "30     [[0.0, 0.0, 0.0, 0.0, 0.0, 0.0, 0.0, 0.0, 0.0,...             4.167285   \n",
       "37     [[0.0, 0.0, 0.0, 0.0, 0.0, 0.0, 0.0, 0.0, 0.0,...             3.903189   \n",
       "47     [[0.0, 0.0, 0.0, 0.0, 0.0, 0.0, 0.0, 0.0, 0.0,...             4.195437   \n",
       "48     [[0.0, 0.0, 0.0, 0.0, 0.0, 0.0, 0.0, 0.0, 0.0,...             4.104474   \n",
       "61     [[0.0, 0.0, 0.0, 0.0, 0.0, 0.0, 0.0, 0.0, 0.0,...             3.776497   \n",
       "...                                                  ...                  ...   \n",
       "6610   [[0.0, 0.0, 0.0, 0.0, 0.0, 0.0, 0.0, 0.0, 0.0,...             3.990339   \n",
       "6641   [[0.0, 0.0, 0.0, 0.0, 0.0, 0.0, 0.0, 0.0, 0.0,...             4.081349   \n",
       "6645   [[0.0, 0.0, 0.0, 0.0, 0.0, 0.0, 0.0, 0.0, 0.0,...             4.138088   \n",
       "6816   [[0.0, 0.0, 0.0, 0.0, 0.0, 0.0, 0.0, 0.0, 0.0,...             2.943730   \n",
       "12858  [[0.0, 0.0, 0.0, 0.0, 0.0, 0.0, 0.0, 0.0, 0.0,...           118.197586   \n",
       "\n",
       "       mean_img_error_t1e1  mean_img_error_t0e3  \n",
       "30                2.399660             4.269996  \n",
       "37                2.486532             4.033217  \n",
       "47                2.299465             4.329398  \n",
       "48                2.428232             4.178372  \n",
       "61                2.484454             3.872011  \n",
       "...                    ...                  ...  \n",
       "6610              2.207825             4.089845  \n",
       "6641              2.244835             4.123868  \n",
       "6645              2.346990             4.264959  \n",
       "6816              3.760436             2.937066  \n",
       "12858           146.014847           117.811119  \n",
       "\n",
       "[771 rows x 19 columns]"
      ]
     },
     "execution_count": 466,
     "metadata": {},
     "output_type": "execute_result"
    }
   ],
   "source": [
    "df['predict'] = particle_types_model.predict(x)\n",
    "df['particle_types_predict'] = (particle_types_model.predict(x)>0.5)*1\n",
    "df[df.t!=df.particle_types_predict]#.head()"
   ]
  },
  {
   "cell_type": "code",
   "execution_count": 598,
   "metadata": {},
   "outputs": [
    {
     "data": {
      "image/png": "[encoded data removed]",
      "text/plain": [
       "<Figure size 1800x288 with 1 Axes>"
      ]
     },
     "metadata": {
      "needs_background": "light"
     },
     "output_type": "display_data"
    }
   ],
   "source": [
    "for e in [1, 3, 6, 10, 20, 30]:\n",
    "    plt.hist(df[df.e==e].bright_sum)"
   ]
  },
  {
   "cell_type": "code",
   "execution_count": null,
   "metadata": {},
   "outputs": [],
   "source": []
  },
  {
   "cell_type": "code",
   "execution_count": null,
   "metadata": {},
   "outputs": [],
   "source": []
  },
  {
   "cell_type": "code",
   "execution_count": null,
   "metadata": {},
   "outputs": [],
   "source": []
  },
  {
   "cell_type": "markdown",
   "metadata": {},
   "source": [
    "# ~~~"
   ]
  },
  {
   "cell_type": "code",
   "execution_count": 627,
   "metadata": {},
   "outputs": [],
   "source": [
    "def get_private_test_data(input_shape=c.INPUT_SHAPE):\n",
    "    x = []\n",
    "    file_names = []\n",
    "    data_dir = os.path.join(c.DATASET_DIR, 'private_test')\n",
    "    for root, dirs, files in os.walk(data_dir):\n",
    "        x += Parallel(n_jobs=c.NUM_CORES) \\\n",
    "            (delayed(get_x)(file, data_dir, input_shape, False, False, False) for file in tqdm(files))\n",
    "        file_names += files\n",
    "    df = pd.DataFrame(file_names, columns=['file_names'])\n",
    "    df['id'] = df['file_names'].map(lambda file_name: file_name[:-4])\n",
    "    df['img_' + str(input_shape[0])] = x\n",
    "    return df"
   ]
  },
  {
   "cell_type": "code",
   "execution_count": null,
   "metadata": {},
   "outputs": [],
   "source": [
    "df_private = get_private_test_data((250, 250))"
   ]
  },
  {
   "cell_type": "code",
   "execution_count": 638,
   "metadata": {},
   "outputs": [
    {
     "name": "stderr",
     "output_type": "stream",
     "text": [
      "100%|██████████| 15058/15058 [00:33<00:00, 449.61it/s]\n",
      "100%|██████████| 15058/15058 [00:14<00:00, 1007.29it/s]\n"
     ]
    }
   ],
   "source": [
    "df_private['circular_ratio'] = np.array(Parallel(n_jobs=c.NUM_CORES)(delayed(get_circular_ratio)(img) for img in tqdm(df_private['img_250'])))\n",
    "df_private['bright_sum'] = np.array(Parallel(n_jobs=c.NUM_CORES)(delayed(get_bright_sum)(img) for img in tqdm(df_private['img_250'])))\n",
    "df_private['is_center_shifted'] = ((df_private.circular_ratio<0.8)&(df_private.bright_sum>5))"
   ]
  },
  {
   "cell_type": "code",
   "execution_count": 668,
   "metadata": {},
   "outputs": [],
   "source": [
    "mask = create_circular_mask(250, 250, radius=8)"
   ]
  },
  {
   "cell_type": "code",
   "execution_count": 672,
   "metadata": {},
   "outputs": [],
   "source": [
    "df_private['sum'] = df_private['img_250'].map(lambda img: np.sum(img[mask])/np.sum(mask)-100.4)"
   ]
  },
  {
   "cell_type": "code",
   "execution_count": 673,
   "metadata": {},
   "outputs": [],
   "source": [
    "df_private['is_center_shifted'] = ((df_private.circular_ratio<0.8)&(df_private.bright_sum>5))"
   ]
  },
  {
   "cell_type": "code",
   "execution_count": 682,
   "metadata": {},
   "outputs": [
    {
     "data": {
      "text/plain": [
       "15058"
      ]
     },
     "execution_count": 682,
     "metadata": {},
     "output_type": "execute_result"
    }
   ],
   "source": [
    "len(df_private)"
   ]
  },
  {
   "cell_type": "code",
   "execution_count": 685,
   "metadata": {},
   "outputs": [
    {
     "data": {
      "text/plain": [
       "5042"
      ]
     },
     "execution_count": 685,
     "metadata": {},
     "output_type": "execute_result"
    }
   ],
   "source": [
    "np.sum(df_private[~df_private['is_center_shifted']]['sum']<7.5)"
   ]
  },
  {
   "cell_type": "code",
   "execution_count": 678,
   "metadata": {},
   "outputs": [
    {
     "data": {
      "text/plain": [
       "2522"
      ]
     },
     "execution_count": 678,
     "metadata": {},
     "output_type": "execute_result"
    }
   ],
   "source": [
    "np.sum(df_private[~df_private['is_center_shifted']]['sum']>30)"
   ]
  },
  {
   "cell_type": "code",
   "execution_count": 686,
   "metadata": {},
   "outputs": [
    {
     "data": {
      "text/plain": [
       "3925"
      ]
     },
     "execution_count": 686,
     "metadata": {},
     "output_type": "execute_result"
    }
   ],
   "source": [
    "np.sum((30>df_private[~df_private['is_center_shifted']]['sum'])&(df_private[~df_private['is_center_shifted']]['sum']>7.5))"
   ]
  },
  {
   "cell_type": "code",
   "execution_count": 687,
   "metadata": {},
   "outputs": [
    {
     "data": {
      "image/png": "[encoded data removed]",
      "text/plain": [
       "<Figure size 1800x288 with 1 Axes>"
      ]
     },
     "metadata": {
      "needs_background": "light"
     },
     "output_type": "display_data"
    },
    {
     "data": {
      "image/png": "[encoded data removed]",
      "text/plain": [
       "<Figure size 1800x288 with 1 Axes>"
      ]
     },
     "metadata": {
      "needs_background": "light"
     },
     "output_type": "display_data"
    }
   ],
   "source": [
    "plt.hist(df_private[~df_private['is_center_shifted']]['sum'], bins=200, log=True)\n",
    "plt.show()\n",
    "\n",
    "plt.hist(df_private[~df_private['is_center_shifted']]['bright_sum'], bins=200, log=True)\n",
    "plt.show()"
   ]
  },
  {
   "cell_type": "markdown",
   "metadata": {},
   "source": [
    "#### Далее классифицируем оба вида частиц по энергиям отдельно, как можно заметить классификация очень точная.\n"
   ]
  },
  {
   "cell_type": "code",
   "execution_count": 430,
   "metadata": {},
   "outputs": [],
   "source": [
    "df_t0 = df[df.t==0]\n",
    "df_t0=df_t0[df_t0.e.isin([3, 10, 30])]\n",
    "\n",
    "x = df_t0[['bright_sum', 'circular_ratio', 'error_t1e1', 'error_t1e6', 'error_t1e20', 'error_t0e3', 'error_t0e10']].to_numpy()\n",
    "x = np.concatenate([df_t0['spector'].to_numpy().tolist(), x], axis=1)\n",
    "y = df_t0.e.to_numpy().reshape(-1, 1)\n",
    "x_train, x_test, y_train, y_test = train_test_split(x, y, test_size=0.4, random_state=42)"
   ]
  },
  {
   "cell_type": "code",
   "execution_count": 431,
   "metadata": {},
   "outputs": [
    {
     "name": "stdout",
     "output_type": "stream",
     "text": [
      "0.06341908248094091 0.058577061418284705\n"
     ]
    }
   ],
   "source": [
    "energies_model_t0 = CatBoostRegressor(iterations=100,\n",
    "                          learning_rate=3e-2,\n",
    "                          l2_leaf_reg=3.0,  # any pos value\n",
    "                          depth=5,  # int up to 16\n",
    "                          min_data_in_leaf=1,  # 1,2,3,4,5\n",
    "                          rsm=1,  # 0.01 .. 1.0\n",
    "                          langevin=False,\n",
    "                          task_type=\"GPU\",\n",
    "                          devices='0:1')\n",
    "\n",
    "energies_model_t0.fit(x_train, y_train, eval_set=(x_test, y_test), verbose=0)\n",
    "print(mean_absolute_error(energies_model_t0.predict(x_train), y_train), mean_absolute_error(energies_model_t0.predict(x_test), y_test))"
   ]
  },
  {
   "cell_type": "code",
   "execution_count": 432,
   "metadata": {},
   "outputs": [
    {
     "data": {
      "text/plain": [
       "0.9712407765896783"
      ]
     },
     "execution_count": 432,
     "metadata": {},
     "output_type": "execute_result"
    }
   ],
   "source": [
    "energies_model_t0 = LinearRegression().fit(x_train, y_train)\n",
    "energies_model_t0.score(x_train, y_train)"
   ]
  },
  {
   "cell_type": "code",
   "execution_count": 433,
   "metadata": {},
   "outputs": [
    {
     "data": {
      "image/png": "[encoded data removed]",
      "text/plain": [
       "<Figure size 1800x288 with 1 Axes>"
      ]
     },
     "metadata": {
      "needs_background": "light"
     },
     "output_type": "display_data"
    }
   ],
   "source": [
    "plt.rcParams[\"figure.figsize\"] = (25, 4)\n",
    "plt.hist(energies_model_t0.predict(x[y.reshape(-1)==3]), bins=200, alpha=0.5, range=(-0.5, 35), log=True)\n",
    "plt.hist(energies_model_t0.predict(x[y.reshape(-1)==10]), bins=200, alpha=0.5, range=(-0.5, 35), log=True)\n",
    "plt.hist(energies_model_t0.predict(x[y.reshape(-1)==30]), bins=200, alpha=0.5, range=(-0.5, 35), log=True)\n",
    "plt.show()"
   ]
  },
  {
   "cell_type": "markdown",
   "metadata": {},
   "source": [
    "Классификация по энергиям частиц NR:"
   ]
  },
  {
   "cell_type": "code",
   "execution_count": 434,
   "metadata": {},
   "outputs": [],
   "source": [
    "df_t0 = df[df.t==1]\n",
    "df_t0=df_t0[df_t0.e.isin([1, 6, 20])]\n",
    "\n",
    "x = df_t0[['bright_sum', 'circular_ratio', 'error_t1e1', 'error_t1e6', 'error_t1e20', 'error_t0e3', 'error_t0e10']].to_numpy()\n",
    "x = np.concatenate([df_t0['spector'].to_numpy().tolist(), x], axis=1)\n",
    "y = df_t0.e.to_numpy().reshape(-1, 1)\n",
    "x_train, x_test, y_train, y_test = train_test_split(x, y, test_size=0.4, random_state=42)"
   ]
  },
  {
   "cell_type": "code",
   "execution_count": 435,
   "metadata": {},
   "outputs": [
    {
     "name": "stdout",
     "output_type": "stream",
     "text": [
      "0.3589669819805687 0.3541322135248068\n"
     ]
    }
   ],
   "source": [
    "energies_model_t1 = CatBoostRegressor(iterations=100,\n",
    "                          learning_rate=3e-2,\n",
    "                          l2_leaf_reg=3.0,  # any pos value\n",
    "                          depth=5,  # int up to 16\n",
    "                          min_data_in_leaf=1,  # 1,2,3,4,5\n",
    "                          rsm=1,  # 0.01 .. 1.0\n",
    "                          langevin=False,\n",
    "                          task_type=\"GPU\",\n",
    "                          devices='0:1')\n",
    "\n",
    "energies_model_t1.fit(x_train, y_train, eval_set=(x_test, y_test), verbose=0)\n",
    "print(mean_absolute_error(energies_model_t1.predict(x_train), y_train), mean_absolute_error(energies_model_t1.predict(x_test), y_test))"
   ]
  },
  {
   "cell_type": "code",
   "execution_count": 436,
   "metadata": {},
   "outputs": [
    {
     "data": {
      "text/plain": [
       "0.9954656048193463"
      ]
     },
     "execution_count": 436,
     "metadata": {},
     "output_type": "execute_result"
    }
   ],
   "source": [
    "energies_model_t1 = LinearRegression().fit(x_train, y_train)\n",
    "energies_model_t1.score(x_train, y_train)"
   ]
  },
  {
   "cell_type": "code",
   "execution_count": 437,
   "metadata": {},
   "outputs": [
    {
     "data": {
      "image/png": "[encoded data removed]",
      "text/plain": [
       "<Figure size 1800x288 with 1 Axes>"
      ]
     },
     "metadata": {
      "needs_background": "light"
     },
     "output_type": "display_data"
    }
   ],
   "source": [
    "plt.rcParams[\"figure.figsize\"] = (25, 4)\n",
    "plt.hist(energies_model_t1.predict(x[y.reshape(-1)==1]), bins=200, alpha=0.5, range=(-0.5, 35), log=True)\n",
    "plt.hist(energies_model_t1.predict(x[y.reshape(-1)==6]), bins=200, alpha=0.5, range=(-0.5, 35), log=True)\n",
    "#plt.hist(energies_model.predict(x[y.reshape(-1)==30]), bins=200, alpha=0.5, range=(-0.5, 35), log=True)\n",
    "plt.show()"
   ]
  },
  {
   "cell_type": "code",
   "execution_count": 438,
   "metadata": {},
   "outputs": [
    {
     "data": {
      "image/png": "[encoded data removed]",
      "text/plain": [
       "<Figure size 1800x288 with 1 Axes>"
      ]
     },
     "metadata": {
      "needs_background": "light"
     },
     "output_type": "display_data"
    }
   ],
   "source": [
    "df_t0 = df[df.t==1]\n",
    "df_t0=df_t0[df_t0.e.isin([3, 10, 30])]\n",
    "\n",
    "x = df_t0[['bright_sum', 'circular_ratio', 'error_t1e1', 'error_t1e6', 'error_t1e20', 'error_t0e3', 'error_t0e10']].to_numpy()\n",
    "x = np.concatenate([df_t0['spector'].to_numpy().tolist(), x], axis=1)\n",
    "y = df_t0.e.to_numpy().reshape(-1, 1)\n",
    "\n",
    "plt.rcParams[\"figure.figsize\"] = (25, 4)\n",
    "plt.hist(energies_model_t1.predict(x[y.reshape(-1)==3]), bins=200, alpha=0.5, range=(-0.5, 35))\n",
    "plt.hist(energies_model_t1.predict(x[y.reshape(-1)==10]), bins=200, alpha=0.5, range=(-0.5, 35))\n",
    "plt.hist(energies_model_t1.predict(x[y.reshape(-1)==30]), bins=200, alpha=0.5, range=(-0.5, 35))\n",
    "plt.show()"
   ]
  },
  {
   "cell_type": "code",
   "execution_count": null,
   "metadata": {},
   "outputs": [],
   "source": []
  },
  {
   "cell_type": "markdown",
   "metadata": {},
   "source": [
    "## Используем полученные модели для классификации тестовых данных"
   ]
  },
  {
   "cell_type": "code",
   "execution_count": 349,
   "metadata": {
    "collapsed": true,
    "jupyter": {
     "outputs_hidden": true
    }
   },
   "outputs": [
    {
     "name": "stderr",
     "output_type": "stream",
     "text": [
      "\n",
      "  0%|          | 0/1502 [00:00<?, ?it/s]\u001b[A\n",
      "  2%|▏         | 24/1502 [00:00<00:08, 164.38it/s]\u001b[A\n",
      "  3%|▎         | 48/1502 [00:00<00:20, 72.16it/s] \u001b[A\n",
      " 10%|▉         | 144/1502 [00:01<00:13, 98.67it/s]\u001b[A\n",
      " 19%|█▉        | 288/1502 [00:01<00:08, 136.62it/s]\u001b[A\n",
      " 38%|███▊      | 576/1502 [00:01<00:04, 189.92it/s]\u001b[A\n",
      "100%|██████████| 1502/1502 [00:01<00:00, 976.59it/s]\u001b[A\n",
      "\n",
      "  0%|          | 0/1502 [00:00<?, ?it/s]\u001b[A\n",
      "  6%|▋         | 96/1502 [00:00<00:02, 640.00it/s]\u001b[A\n",
      " 10%|▉         | 144/1502 [00:00<00:02, 473.38it/s]\u001b[A\n",
      " 13%|█▎        | 192/1502 [00:00<00:03, 420.39it/s]\u001b[A\n",
      " 19%|█▉        | 288/1502 [00:00<00:02, 441.48it/s]\u001b[A\n",
      " 26%|██▌       | 384/1502 [00:00<00:02, 513.32it/s]\u001b[A\n",
      " 32%|███▏      | 480/1502 [00:00<00:01, 591.09it/s]\u001b[A\n",
      " 38%|███▊      | 576/1502 [00:01<00:01, 623.83it/s]\u001b[A\n",
      " 45%|████▍     | 672/1502 [00:01<00:01, 694.04it/s]\u001b[A\n",
      " 51%|█████     | 768/1502 [00:01<00:01, 694.52it/s]\u001b[A\n",
      " 58%|█████▊    | 864/1502 [00:01<00:00, 733.06it/s]\u001b[A\n",
      " 64%|██████▍   | 960/1502 [00:01<00:00, 718.19it/s]\u001b[A\n",
      " 70%|███████   | 1056/1502 [00:01<00:00, 730.77it/s]\u001b[A\n",
      " 77%|███████▋  | 1152/1502 [00:01<00:00, 748.49it/s]\u001b[A\n",
      " 83%|████████▎ | 1248/1502 [00:01<00:00, 763.23it/s]\u001b[A\n",
      " 89%|████████▉ | 1344/1502 [00:01<00:00, 807.09it/s]\u001b[A\n",
      "100%|██████████| 1502/1502 [00:02<00:00, 710.50it/s]\u001b[A\n",
      "\n",
      "  0%|          | 0/1502 [00:00<?, ?it/s]\u001b[A\n",
      "  6%|▋         | 96/1502 [00:00<00:02, 648.65it/s]\u001b[A\n",
      " 10%|▉         | 144/1502 [00:00<00:02, 523.45it/s]\u001b[A\n",
      " 16%|█▌        | 240/1502 [00:00<00:02, 530.74it/s]\u001b[A\n",
      " 29%|██▉       | 432/1502 [00:00<00:01, 626.77it/s]\u001b[A\n",
      " 42%|████▏     | 624/1502 [00:00<00:01, 776.91it/s]\u001b[A\n",
      " 54%|█████▍    | 816/1502 [00:00<00:00, 909.56it/s]\u001b[A\n",
      " 67%|██████▋   | 1008/1502 [00:01<00:00, 1036.35it/s]\u001b[A\n",
      " 80%|███████▉  | 1200/1502 [00:01<00:00, 1089.76it/s]\u001b[A\n",
      "100%|██████████| 1502/1502 [00:01<00:00, 1105.23it/s]\u001b[A\n"
     ]
    }
   ],
   "source": [
    "df_test = get_test_data(input_shape=(250, 250))\n",
    "df_test['circular_ratio'] = np.array(Parallel(n_jobs=c.NUM_CORES)(delayed(get_circular_ratio)(img) for img in tqdm(df_test['img_250'])))\n",
    "df_test['bright_sum'] = np.array(Parallel(n_jobs=c.NUM_CORES)(delayed(get_bright_sum)(img) for img in tqdm(df_test['img_250'])))"
   ]
  },
  {
   "cell_type": "code",
   "execution_count": 350,
   "metadata": {},
   "outputs": [],
   "source": [
    "df_test['id'] = df_test['file_names'].map(lambda file_name: file_name[:-4])"
   ]
  },
  {
   "cell_type": "code",
   "execution_count": 351,
   "metadata": {},
   "outputs": [
    {
     "data": {
      "text/html": [
       "<div>\n",
       "<style scoped>\n",
       "    .dataframe tbody tr th:only-of-type {\n",
       "        vertical-align: middle;\n",
       "    }\n",
       "\n",
       "    .dataframe tbody tr th {\n",
       "        vertical-align: top;\n",
       "    }\n",
       "\n",
       "    .dataframe thead th {\n",
       "        text-align: right;\n",
       "    }\n",
       "</style>\n",
       "<table border=\"1\" class=\"dataframe\">\n",
       "  <thead>\n",
       "    <tr style=\"text-align: right;\">\n",
       "      <th></th>\n",
       "      <th>file_names</th>\n",
       "      <th>id</th>\n",
       "      <th>img_250</th>\n",
       "      <th>circular_ratio</th>\n",
       "      <th>bright_sum</th>\n",
       "    </tr>\n",
       "  </thead>\n",
       "  <tbody>\n",
       "    <tr>\n",
       "      <th>0</th>\n",
       "      <td>001ec8f4d2679f2899a63e4b2597c0a10bd9393f.png</td>\n",
       "      <td>001ec8f4d2679f2899a63e4b2597c0a10bd9393f</td>\n",
       "      <td>[[102.0, 103.0, 102.0, 103.0, 101.0, 102.0, 99...</td>\n",
       "      <td>0.895706</td>\n",
       "      <td>10.507998</td>\n",
       "    </tr>\n",
       "    <tr>\n",
       "      <th>1</th>\n",
       "      <td>00327390bfd6101b87106e96e0efc1c938690e1f.png</td>\n",
       "      <td>00327390bfd6101b87106e96e0efc1c938690e1f</td>\n",
       "      <td>[[95.0, 100.0, 99.0, 104.0, 103.0, 101.0, 103....</td>\n",
       "      <td>0.796512</td>\n",
       "      <td>3.450998</td>\n",
       "    </tr>\n",
       "    <tr>\n",
       "      <th>2</th>\n",
       "      <td>00573dde8addbac780cfa35a55a790fa1aa45178.png</td>\n",
       "      <td>00573dde8addbac780cfa35a55a790fa1aa45178</td>\n",
       "      <td>[[102.0, 94.0, 100.0, 102.0, 93.0, 102.0, 99.0...</td>\n",
       "      <td>0.889908</td>\n",
       "      <td>11.896999</td>\n",
       "    </tr>\n",
       "    <tr>\n",
       "      <th>3</th>\n",
       "      <td>00cb5b91a4acdfaa2f55dc2266e598ff06f9209e.png</td>\n",
       "      <td>00cb5b91a4acdfaa2f55dc2266e598ff06f9209e</td>\n",
       "      <td>[[100.0, 100.0, 104.0, 101.0, 102.0, 99.0, 103...</td>\n",
       "      <td>0.823009</td>\n",
       "      <td>3.516998</td>\n",
       "    </tr>\n",
       "    <tr>\n",
       "      <th>4</th>\n",
       "      <td>00de1146bdcbfb02ed5f0e13fd6b9fe62157c0b2.png</td>\n",
       "      <td>00de1146bdcbfb02ed5f0e13fd6b9fe62157c0b2</td>\n",
       "      <td>[[101.0, 101.0, 99.0, 103.0, 100.0, 105.0, 98....</td>\n",
       "      <td>0.861446</td>\n",
       "      <td>2.985998</td>\n",
       "    </tr>\n",
       "  </tbody>\n",
       "</table>\n",
       "</div>"
      ],
      "text/plain": [
       "                                     file_names  \\\n",
       "0  001ec8f4d2679f2899a63e4b2597c0a10bd9393f.png   \n",
       "1  00327390bfd6101b87106e96e0efc1c938690e1f.png   \n",
       "2  00573dde8addbac780cfa35a55a790fa1aa45178.png   \n",
       "3  00cb5b91a4acdfaa2f55dc2266e598ff06f9209e.png   \n",
       "4  00de1146bdcbfb02ed5f0e13fd6b9fe62157c0b2.png   \n",
       "\n",
       "                                         id  \\\n",
       "0  001ec8f4d2679f2899a63e4b2597c0a10bd9393f   \n",
       "1  00327390bfd6101b87106e96e0efc1c938690e1f   \n",
       "2  00573dde8addbac780cfa35a55a790fa1aa45178   \n",
       "3  00cb5b91a4acdfaa2f55dc2266e598ff06f9209e   \n",
       "4  00de1146bdcbfb02ed5f0e13fd6b9fe62157c0b2   \n",
       "\n",
       "                                             img_250  circular_ratio  \\\n",
       "0  [[102.0, 103.0, 102.0, 103.0, 101.0, 102.0, 99...        0.895706   \n",
       "1  [[95.0, 100.0, 99.0, 104.0, 103.0, 101.0, 103....        0.796512   \n",
       "2  [[102.0, 94.0, 100.0, 102.0, 93.0, 102.0, 99.0...        0.889908   \n",
       "3  [[100.0, 100.0, 104.0, 101.0, 102.0, 99.0, 103...        0.823009   \n",
       "4  [[101.0, 101.0, 99.0, 103.0, 100.0, 105.0, 98....        0.861446   \n",
       "\n",
       "   bright_sum  \n",
       "0   10.507998  \n",
       "1    3.450998  \n",
       "2   11.896999  \n",
       "3    3.516998  \n",
       "4    2.985998  "
      ]
     },
     "execution_count": 351,
     "metadata": {},
     "output_type": "execute_result"
    }
   ],
   "source": [
    "df_test.head()"
   ]
  },
  {
   "cell_type": "code",
   "execution_count": 439,
   "metadata": {
    "collapsed": true,
    "jupyter": {
     "outputs_hidden": true
    }
   },
   "outputs": [
    {
     "name": "stderr",
     "output_type": "stream",
     "text": [
      "\n",
      "  0%|          | 0/1502 [00:00<?, ?it/s]\u001b[A\n",
      "  2%|▏         | 24/1502 [00:00<00:16, 87.91it/s]\u001b[A\n",
      " 10%|▉         | 144/1502 [00:00<00:11, 120.30it/s]\u001b[A\n",
      " 22%|██▏       | 336/1502 [00:00<00:07, 164.78it/s]\u001b[A\n",
      " 35%|███▌      | 528/1502 [00:00<00:04, 226.64it/s]\u001b[A\n",
      " 48%|████▊     | 720/1502 [00:00<00:02, 299.39it/s]\u001b[A\n",
      " 74%|███████▎  | 1104/1502 [00:00<00:00, 411.74it/s]\u001b[A\n",
      "100%|██████████| 1502/1502 [00:01<00:00, 1316.39it/s][A\n",
      "\n",
      "  0%|          | 0/1502 [00:00<?, ?it/s]\u001b[A\n",
      "  3%|▎         | 48/1502 [00:00<00:03, 400.01it/s]\u001b[A\n",
      "  6%|▋         | 96/1502 [00:00<00:05, 241.69it/s]\u001b[A\n",
      " 10%|▉         | 144/1502 [00:00<00:05, 263.85it/s]\u001b[A\n",
      " 13%|█▎        | 192/1502 [00:00<00:04, 297.13it/s]\u001b[A\n",
      " 16%|█▌        | 240/1502 [00:00<00:03, 320.04it/s]\u001b[A\n",
      " 19%|█▉        | 288/1502 [00:01<00:03, 333.36it/s]\u001b[A\n",
      " 22%|██▏       | 336/1502 [00:01<00:03, 343.37it/s]\u001b[A\n",
      " 26%|██▌       | 384/1502 [00:01<00:03, 352.29it/s]\u001b[A\n",
      " 29%|██▉       | 432/1502 [00:01<00:02, 357.20it/s]\u001b[A\n",
      " 32%|███▏      | 480/1502 [00:01<00:02, 361.54it/s]\u001b[A\n",
      " 35%|███▌      | 528/1502 [00:01<00:02, 360.54it/s]\u001b[A\n",
      " 38%|███▊      | 576/1502 [00:01<00:02, 363.93it/s]\u001b[A\n",
      " 42%|████▏     | 624/1502 [00:01<00:02, 366.34it/s]\u001b[A\n",
      " 45%|████▍     | 672/1502 [00:02<00:02, 368.05it/s]\u001b[A\n",
      " 48%|████▊     | 720/1502 [00:02<00:02, 370.96it/s]\u001b[A\n",
      " 51%|█████     | 768/1502 [00:02<00:01, 372.16it/s]\u001b[A\n",
      " 54%|█████▍    | 816/1502 [00:02<00:01, 373.88it/s]\u001b[A\n",
      " 58%|█████▊    | 864/1502 [00:02<00:01, 374.22it/s]\u001b[A\n",
      " 61%|██████    | 912/1502 [00:02<00:01, 372.71it/s]\u001b[A\n",
      " 64%|██████▍   | 960/1502 [00:02<00:01, 371.25it/s]\u001b[A\n",
      " 67%|██████▋   | 1008/1502 [00:02<00:01, 372.37it/s]\u001b[A\n",
      " 70%|███████   | 1056/1502 [00:03<00:01, 373.14it/s]\u001b[A\n",
      " 74%|███████▎  | 1104/1502 [00:03<00:01, 373.70it/s]\u001b[A\n",
      " 77%|███████▋  | 1152/1502 [00:03<00:00, 368.90it/s]\u001b[A\n",
      " 80%|███████▉  | 1200/1502 [00:03<00:00, 369.88it/s]\u001b[A\n",
      " 83%|████████▎ | 1248/1502 [00:03<00:00, 370.54it/s]\u001b[A\n",
      " 86%|████████▋ | 1296/1502 [00:03<00:00, 372.72it/s]\u001b[A\n",
      " 89%|████████▉ | 1344/1502 [00:03<00:00, 372.52it/s]\u001b[A\n",
      " 93%|█████████▎| 1392/1502 [00:03<00:00, 371.52it/s]\u001b[A\n",
      " 96%|█████████▌| 1440/1502 [00:04<00:00, 369.81it/s]\u001b[A\n",
      "100%|██████████| 1502/1502 [00:04<00:00, 353.60it/s]\u001b[A\n"
     ]
    }
   ],
   "source": [
    "df_test['is_center_shifted'] = ((df_test.circular_ratio<0.8)&(df_test.bright_sum>5))\n",
    "\n",
    "df_test['img_80'] = Parallel(n_jobs=c.NUM_CORES)(delayed(crop_image)(img, (80, 80), False) for img in tqdm(df_test['img_250']))\n",
    "df_test['img_80'] = df_test['img_80'].map(lambda img: img-np.mean((img[:25]+img[-25:]), axis=0).reshape(1, 80)/2+100.4)\n",
    "df_test['spector'] = Parallel(n_jobs=c.NUM_CORES)(delayed(get_img_spector)(img) for img in tqdm(df_test['img_80']))"
   ]
  },
  {
   "cell_type": "code",
   "execution_count": 440,
   "metadata": {},
   "outputs": [
    {
     "name": "stderr",
     "output_type": "stream",
     "text": [
      "\n",
      "  0%|          | 0/1502 [00:00<?, ?it/s]\u001b[A\n",
      "  6%|▋         | 96/1502 [00:00<00:01, 749.91it/s]\u001b[A\n",
      " 16%|█▌        | 240/1502 [00:00<00:01, 810.73it/s]\u001b[A\n",
      " 35%|███▌      | 528/1502 [00:00<00:01, 971.76it/s]\u001b[A\n",
      " 74%|███████▎  | 1104/1502 [00:00<00:00, 1234.69it/s]\u001b[A\n",
      "100%|██████████| 1502/1502 [00:00<00:00, 2068.68it/s]\u001b[A\n"
     ]
    }
   ],
   "source": [
    "df_test['hist_matrix'] = Parallel(n_jobs=c.NUM_CORES)(delayed(get_histogram_matrix)(img, 16) for img in tqdm(df_test['img_80']))"
   ]
  },
  {
   "cell_type": "code",
   "execution_count": 363,
   "metadata": {},
   "outputs": [],
   "source": [
    "mean_hist_matrix = np.mean(df[(df.t==1)&(df.e==1)]['hist_matrix'])\n",
    "df_test['error_t1e1'] = Parallel(n_jobs=c.NUM_CORES)(delayed(mean_absolute_error)(mean_hist_matrix, hist_matrix) for hist_matrix in df_test['hist_matrix'])\n",
    "\n",
    "mean_hist_matrix = np.mean(df[(df.t==1)&(df.e==6)]['hist_matrix'])\n",
    "df_test['error_t1e6'] = Parallel(n_jobs=c.NUM_CORES)(delayed(mean_absolute_error)(mean_hist_matrix, hist_matrix) for hist_matrix in df_test['hist_matrix'])\n",
    "\n",
    "mean_hist_matrix = np.mean(df[(df.t==1)&(df.e==20)]['hist_matrix'])\n",
    "df_test['error_t1e20'] = Parallel(n_jobs=c.NUM_CORES)(delayed(mean_absolute_error)(mean_hist_matrix, hist_matrix) for hist_matrix in df_test['hist_matrix'])\n",
    "\n",
    "mean_hist_matrix = np.mean(df[(df.t==0)&(df.e==3)]['hist_matrix'])\n",
    "df_test['error_t0e3'] = Parallel(n_jobs=c.NUM_CORES)(delayed(mean_absolute_error)(mean_hist_matrix, hist_matrix) for hist_matrix in df_test['hist_matrix'])\n",
    "\n",
    "mean_hist_matrix = np.mean(df[(df.t==0)&(df.e==10)]['hist_matrix'])\n",
    "df_test['error_t0e10'] = Parallel(n_jobs=c.NUM_CORES)(delayed(mean_absolute_error)(mean_hist_matrix, hist_matrix) for hist_matrix in df_test['hist_matrix'])"
   ]
  },
  {
   "cell_type": "code",
   "execution_count": 364,
   "metadata": {},
   "outputs": [
    {
     "data": {
      "image/png": "[encoded data removed]",
      "text/plain": [
       "<Figure size 1800x288 with 1 Axes>"
      ]
     },
     "metadata": {
      "needs_background": "light"
     },
     "output_type": "display_data"
    }
   ],
   "source": [
    "df_test_with_shifted_center = df_test[~df_test['is_center_shifted']]\n",
    "\n",
    "x = df_test_with_shifted_center[['bright_sum', 'circular_ratio', 'error_t1e1', 'error_t1e6', 'error_t1e20', 'error_t0e3', 'error_t0e10']].to_numpy()\n",
    "x = np.concatenate([df_test_with_shifted_center['spector'].to_numpy().tolist(), x], axis=1)\n",
    "\n",
    "\n",
    "plt.rcParams[\"figure.figsize\"] = (25, 4)\n",
    "plt.hist(particle_types_model.predict(x), bins=200, alpha=0.5, range=(-0.5, 1.5), log=True)\n",
    "plt.show()"
   ]
  },
  {
   "cell_type": "code",
   "execution_count": 441,
   "metadata": {},
   "outputs": [],
   "source": [
    "x = df_test[['bright_sum', 'circular_ratio', 'error_t1e1', 'error_t1e6', 'error_t1e20', 'error_t0e3', 'error_t0e10']].to_numpy()\n",
    "x = np.concatenate([df_test['spector'].to_numpy().tolist(), x], axis=1)\n",
    "df_test['particle_types_model'] = particle_types_model.predict(x)"
   ]
  },
  {
   "cell_type": "code",
   "execution_count": 442,
   "metadata": {},
   "outputs": [],
   "source": [
    "df_test['t'] = ((df_test.is_center_shifted)|(df_test.particle_types_model<0.5))*1"
   ]
  },
  {
   "cell_type": "code",
   "execution_count": 443,
   "metadata": {},
   "outputs": [
    {
     "data": {
      "text/html": [
       "<div>\n",
       "<style scoped>\n",
       "    .dataframe tbody tr th:only-of-type {\n",
       "        vertical-align: middle;\n",
       "    }\n",
       "\n",
       "    .dataframe tbody tr th {\n",
       "        vertical-align: top;\n",
       "    }\n",
       "\n",
       "    .dataframe thead th {\n",
       "        text-align: right;\n",
       "    }\n",
       "</style>\n",
       "<table border=\"1\" class=\"dataframe\">\n",
       "  <thead>\n",
       "    <tr style=\"text-align: right;\">\n",
       "      <th></th>\n",
       "      <th>file_names</th>\n",
       "      <th>id</th>\n",
       "      <th>img_250</th>\n",
       "      <th>circular_ratio</th>\n",
       "      <th>bright_sum</th>\n",
       "      <th>is_center_shifted</th>\n",
       "      <th>img_80</th>\n",
       "      <th>spector</th>\n",
       "      <th>hist_matrix</th>\n",
       "      <th>error_t1e1</th>\n",
       "      <th>error_t1e6</th>\n",
       "      <th>error_t1e20</th>\n",
       "      <th>error_t0e3</th>\n",
       "      <th>error_t0e10</th>\n",
       "      <th>particle_types_model</th>\n",
       "      <th>t</th>\n",
       "      <th>energies_predict_t0</th>\n",
       "      <th>energies_predict_t1</th>\n",
       "    </tr>\n",
       "  </thead>\n",
       "  <tbody>\n",
       "    <tr>\n",
       "      <th>0</th>\n",
       "      <td>001ec8f4d2679f2899a63e4b2597c0a10bd9393f.png</td>\n",
       "      <td>001ec8f4d2679f2899a63e4b2597c0a10bd9393f</td>\n",
       "      <td>[[102.0, 103.0, 102.0, 103.0, 101.0, 102.0, 99...</td>\n",
       "      <td>0.895706</td>\n",
       "      <td>10.507998</td>\n",
       "      <td>False</td>\n",
       "      <td>[[103.4, 99.74, 103.020004, 88.48, 96.8, 98.64...</td>\n",
       "      <td>[43.35074234008789, -1.3905653914049676, 13617...</td>\n",
       "      <td>[[0.0, 0.0, 0.0, 0.0, 0.0, 0.0, 0.0, 0.0, 0.0,...</td>\n",
       "      <td>0.014572</td>\n",
       "      <td>0.013020</td>\n",
       "      <td>0.003970</td>\n",
       "      <td>0.013763</td>\n",
       "      <td>0.007161</td>\n",
       "      <td>0.987672</td>\n",
       "      <td>0</td>\n",
       "      <td>9.481989</td>\n",
       "      <td>19.482862</td>\n",
       "    </tr>\n",
       "    <tr>\n",
       "      <th>1</th>\n",
       "      <td>00327390bfd6101b87106e96e0efc1c938690e1f.png</td>\n",
       "      <td>00327390bfd6101b87106e96e0efc1c938690e1f</td>\n",
       "      <td>[[95.0, 100.0, 99.0, 104.0, 103.0, 101.0, 103....</td>\n",
       "      <td>0.796512</td>\n",
       "      <td>3.450998</td>\n",
       "      <td>False</td>\n",
       "      <td>[[96.48, 102.98, 99.18, 100.840004, 101.74, 10...</td>\n",
       "      <td>[40.683685302734375, -1.4194284510275978, 1285...</td>\n",
       "      <td>[[0.0, 0.0, 0.0, 0.0, 0.0, 0.0, 0.0, 0.0, 0.0,...</td>\n",
       "      <td>0.007801</td>\n",
       "      <td>0.003376</td>\n",
       "      <td>0.013337</td>\n",
       "      <td>0.004176</td>\n",
       "      <td>0.009474</td>\n",
       "      <td>0.985874</td>\n",
       "      <td>0</td>\n",
       "      <td>3.032234</td>\n",
       "      <td>6.147138</td>\n",
       "    </tr>\n",
       "    <tr>\n",
       "      <th>2</th>\n",
       "      <td>00573dde8addbac780cfa35a55a790fa1aa45178.png</td>\n",
       "      <td>00573dde8addbac780cfa35a55a790fa1aa45178</td>\n",
       "      <td>[[102.0, 94.0, 100.0, 102.0, 93.0, 102.0, 99.0...</td>\n",
       "      <td>0.889908</td>\n",
       "      <td>11.896999</td>\n",
       "      <td>False</td>\n",
       "      <td>[[104.32, 98.26, 103.22, 100.42, 96.1, 107.58,...</td>\n",
       "      <td>[43.72025680541992, -1.3898656675759586, 13713...</td>\n",
       "      <td>[[0.0, 0.0, 0.0, 0.0, 0.0, 0.0, 0.0, 0.0, 0.0,...</td>\n",
       "      <td>0.014730</td>\n",
       "      <td>0.013545</td>\n",
       "      <td>0.004013</td>\n",
       "      <td>0.014192</td>\n",
       "      <td>0.007743</td>\n",
       "      <td>0.987672</td>\n",
       "      <td>0</td>\n",
       "      <td>9.481989</td>\n",
       "      <td>19.484106</td>\n",
       "    </tr>\n",
       "    <tr>\n",
       "      <th>3</th>\n",
       "      <td>00cb5b91a4acdfaa2f55dc2266e598ff06f9209e.png</td>\n",
       "      <td>00cb5b91a4acdfaa2f55dc2266e598ff06f9209e</td>\n",
       "      <td>[[100.0, 100.0, 104.0, 101.0, 102.0, 99.0, 103...</td>\n",
       "      <td>0.823009</td>\n",
       "      <td>3.516998</td>\n",
       "      <td>False</td>\n",
       "      <td>[[97.380005, 100.4, 98.22, 111.18, 96.5, 100.7...</td>\n",
       "      <td>[40.63819122314453, -1.4000766278244174, 12842...</td>\n",
       "      <td>[[0.0, 0.0, 0.0, 0.0, 0.0, 0.0, 0.0, 0.0, 0.0,...</td>\n",
       "      <td>0.007970</td>\n",
       "      <td>0.003646</td>\n",
       "      <td>0.013460</td>\n",
       "      <td>0.004256</td>\n",
       "      <td>0.009606</td>\n",
       "      <td>0.986457</td>\n",
       "      <td>0</td>\n",
       "      <td>3.032234</td>\n",
       "      <td>6.147138</td>\n",
       "    </tr>\n",
       "    <tr>\n",
       "      <th>4</th>\n",
       "      <td>00de1146bdcbfb02ed5f0e13fd6b9fe62157c0b2.png</td>\n",
       "      <td>00de1146bdcbfb02ed5f0e13fd6b9fe62157c0b2</td>\n",
       "      <td>[[101.0, 101.0, 99.0, 103.0, 100.0, 105.0, 98....</td>\n",
       "      <td>0.861446</td>\n",
       "      <td>2.985998</td>\n",
       "      <td>False</td>\n",
       "      <td>[[99.12, 102.8, 99.42, 107.18, 98.9, 103.56000...</td>\n",
       "      <td>[40.539207458496094, -1.4131502296642886, 1281...</td>\n",
       "      <td>[[0.0, 0.0, 0.0, 0.0, 0.0, 0.0, 0.0, 0.0, 0.0,...</td>\n",
       "      <td>0.007500</td>\n",
       "      <td>0.003800</td>\n",
       "      <td>0.013877</td>\n",
       "      <td>0.004359</td>\n",
       "      <td>0.009865</td>\n",
       "      <td>0.984911</td>\n",
       "      <td>0</td>\n",
       "      <td>3.027816</td>\n",
       "      <td>6.147739</td>\n",
       "    </tr>\n",
       "  </tbody>\n",
       "</table>\n",
       "</div>"
      ],
      "text/plain": [
       "                                     file_names  \\\n",
       "0  001ec8f4d2679f2899a63e4b2597c0a10bd9393f.png   \n",
       "1  00327390bfd6101b87106e96e0efc1c938690e1f.png   \n",
       "2  00573dde8addbac780cfa35a55a790fa1aa45178.png   \n",
       "3  00cb5b91a4acdfaa2f55dc2266e598ff06f9209e.png   \n",
       "4  00de1146bdcbfb02ed5f0e13fd6b9fe62157c0b2.png   \n",
       "\n",
       "                                         id  \\\n",
       "0  001ec8f4d2679f2899a63e4b2597c0a10bd9393f   \n",
       "1  00327390bfd6101b87106e96e0efc1c938690e1f   \n",
       "2  00573dde8addbac780cfa35a55a790fa1aa45178   \n",
       "3  00cb5b91a4acdfaa2f55dc2266e598ff06f9209e   \n",
       "4  00de1146bdcbfb02ed5f0e13fd6b9fe62157c0b2   \n",
       "\n",
       "                                             img_250  circular_ratio  \\\n",
       "0  [[102.0, 103.0, 102.0, 103.0, 101.0, 102.0, 99...        0.895706   \n",
       "1  [[95.0, 100.0, 99.0, 104.0, 103.0, 101.0, 103....        0.796512   \n",
       "2  [[102.0, 94.0, 100.0, 102.0, 93.0, 102.0, 99.0...        0.889908   \n",
       "3  [[100.0, 100.0, 104.0, 101.0, 102.0, 99.0, 103...        0.823009   \n",
       "4  [[101.0, 101.0, 99.0, 103.0, 100.0, 105.0, 98....        0.861446   \n",
       "\n",
       "   bright_sum  is_center_shifted  \\\n",
       "0   10.507998              False   \n",
       "1    3.450998              False   \n",
       "2   11.896999              False   \n",
       "3    3.516998              False   \n",
       "4    2.985998              False   \n",
       "\n",
       "                                              img_80  \\\n",
       "0  [[103.4, 99.74, 103.020004, 88.48, 96.8, 98.64...   \n",
       "1  [[96.48, 102.98, 99.18, 100.840004, 101.74, 10...   \n",
       "2  [[104.32, 98.26, 103.22, 100.42, 96.1, 107.58,...   \n",
       "3  [[97.380005, 100.4, 98.22, 111.18, 96.5, 100.7...   \n",
       "4  [[99.12, 102.8, 99.42, 107.18, 98.9, 103.56000...   \n",
       "\n",
       "                                             spector  \\\n",
       "0  [43.35074234008789, -1.3905653914049676, 13617...   \n",
       "1  [40.683685302734375, -1.4194284510275978, 1285...   \n",
       "2  [43.72025680541992, -1.3898656675759586, 13713...   \n",
       "3  [40.63819122314453, -1.4000766278244174, 12842...   \n",
       "4  [40.539207458496094, -1.4131502296642886, 1281...   \n",
       "\n",
       "                                         hist_matrix  error_t1e1  error_t1e6  \\\n",
       "0  [[0.0, 0.0, 0.0, 0.0, 0.0, 0.0, 0.0, 0.0, 0.0,...    0.014572    0.013020   \n",
       "1  [[0.0, 0.0, 0.0, 0.0, 0.0, 0.0, 0.0, 0.0, 0.0,...    0.007801    0.003376   \n",
       "2  [[0.0, 0.0, 0.0, 0.0, 0.0, 0.0, 0.0, 0.0, 0.0,...    0.014730    0.013545   \n",
       "3  [[0.0, 0.0, 0.0, 0.0, 0.0, 0.0, 0.0, 0.0, 0.0,...    0.007970    0.003646   \n",
       "4  [[0.0, 0.0, 0.0, 0.0, 0.0, 0.0, 0.0, 0.0, 0.0,...    0.007500    0.003800   \n",
       "\n",
       "   error_t1e20  error_t0e3  error_t0e10  particle_types_model  t  \\\n",
       "0     0.003970    0.013763     0.007161              0.987672  0   \n",
       "1     0.013337    0.004176     0.009474              0.985874  0   \n",
       "2     0.004013    0.014192     0.007743              0.987672  0   \n",
       "3     0.013460    0.004256     0.009606              0.986457  0   \n",
       "4     0.013877    0.004359     0.009865              0.984911  0   \n",
       "\n",
       "   energies_predict_t0  energies_predict_t1  \n",
       "0             9.481989            19.482862  \n",
       "1             3.032234             6.147138  \n",
       "2             9.481989            19.484106  \n",
       "3             3.032234             6.147138  \n",
       "4             3.027816             6.147739  "
      ]
     },
     "execution_count": 443,
     "metadata": {},
     "output_type": "execute_result"
    }
   ],
   "source": [
    "df_test.head()"
   ]
  },
  {
   "cell_type": "code",
   "execution_count": 444,
   "metadata": {},
   "outputs": [],
   "source": [
    "df_test['energies_predict_t0'] = energies_model_t0.predict(x)\n",
    "df_test['energies_predict_t1'] = energies_model_t1.predict(x)"
   ]
  },
  {
   "cell_type": "code",
   "execution_count": 445,
   "metadata": {},
   "outputs": [
    {
     "data": {
      "image/png": "[encoded data removed]",
      "text/plain": [
       "<Figure size 1800x288 with 1 Axes>"
      ]
     },
     "metadata": {
      "needs_background": "light"
     },
     "output_type": "display_data"
    }
   ],
   "source": [
    "plt.hist(df_test[df_test.t==1]['energies_predict_t0'], bins=100)\n",
    "plt.show()"
   ]
  },
  {
   "cell_type": "code",
   "execution_count": 446,
   "metadata": {},
   "outputs": [
    {
     "data": {
      "image/png": "[encoded data removed]",
      "text/plain": [
       "<Figure size 1800x288 with 1 Axes>"
      ]
     },
     "metadata": {
      "needs_background": "light"
     },
     "output_type": "display_data"
    }
   ],
   "source": [
    "plt.hist(df_test[df_test.t==0]['energies_predict_t1'], bins=100)\n",
    "plt.show()"
   ]
  },
  {
   "cell_type": "code",
   "execution_count": 447,
   "metadata": {},
   "outputs": [],
   "source": [
    "df_test['e'] = 0\n",
    "df_test['e'] += ((~df_test.is_center_shifted) & (df_test.t==1) & (0<df_test['energies_predict_t0']) & (df_test['energies_predict_t0']<6)) * 3\n",
    "df_test['e'] += ((~df_test.is_center_shifted) & (df_test.t==1) & (6<df_test['energies_predict_t0']) & (df_test['energies_predict_t0']<15)) * 10\n",
    "df_test['e'] += ((~df_test.is_center_shifted) & (df_test.t==1) & (15<df_test['energies_predict_t0']) & (df_test['energies_predict_t0']<30)) * 30\n",
    "\n",
    "df_test['e'] += ((df_test.t==0) & (0<df_test['energies_predict_t1']) & (df_test['energies_predict_t1']<4)) * 1\n",
    "df_test['e'] += ((df_test.t==0) & (4<df_test['energies_predict_t1']) & (df_test['energies_predict_t1']<8)) * 6\n",
    "df_test['e'] += ((df_test.t==0) & (8<df_test['energies_predict_t1'])) * 20\n",
    "\n",
    "df_test['e'] += (df_test.is_center_shifted & (df_test['bright_sum'] < 12)) * 10\n",
    "df_test['e'] += (df_test.is_center_shifted & (df_test['bright_sum'] > 12)) * 30"
   ]
  },
  {
   "cell_type": "code",
   "execution_count": 448,
   "metadata": {},
   "outputs": [
    {
     "data": {
      "text/plain": [
       "250"
      ]
     },
     "execution_count": 448,
     "metadata": {},
     "output_type": "execute_result"
    }
   ],
   "source": [
    "np.sum((df_test.t==0) & (6<df_test['energies_predict_t0']) & (df_test['energies_predict_t0']<15))"
   ]
  },
  {
   "cell_type": "code",
   "execution_count": 449,
   "metadata": {},
   "outputs": [
    {
     "data": {
      "text/plain": [
       "0       11.039456\n",
       "1        3.546762\n",
       "2       12.644608\n",
       "3        3.396902\n",
       "4        3.181197\n",
       "          ...    \n",
       "1489    10.882610\n",
       "1490     3.429808\n",
       "1496     5.045518\n",
       "1499    10.684397\n",
       "1501     4.399476\n",
       "Name: energies_predict_t0, Length: 753, dtype: float64"
      ]
     },
     "execution_count": 449,
     "metadata": {},
     "output_type": "execute_result"
    }
   ],
   "source": [
    "df_test[df_test.t==0]['energies_predict_t0']"
   ]
  },
  {
   "cell_type": "code",
   "execution_count": 450,
   "metadata": {},
   "outputs": [
    {
     "data": {
      "text/plain": [
       "<matplotlib.image.AxesImage at 0x16454212c10>"
      ]
     },
     "execution_count": 450,
     "metadata": {},
     "output_type": "execute_result"
    },
    {
     "data": {
      "image/png": "[encoded data removed]",
      "text/plain": [
       "<Figure size 1800x288 with 1 Axes>"
      ]
     },
     "metadata": {
      "needs_background": "light"
     },
     "output_type": "display_data"
    }
   ],
   "source": [
    "plt.imshow(df_test[(df_test.t==1)].iloc[1].img_250)"
   ]
  },
  {
   "cell_type": "code",
   "execution_count": 451,
   "metadata": {},
   "outputs": [
    {
     "data": {
      "image/png": "[encoded data removed]",
      "text/plain": [
       "<Figure size 1800x288 with 1 Axes>"
      ]
     },
     "metadata": {
      "needs_background": "light"
     },
     "output_type": "display_data"
    }
   ],
   "source": [
    "plt.rcParams[\"figure.figsize\"] = (25, 4)\n",
    "plt.hist(df_test[(df_test.t==0)]['energies_predict_t1'], bins=200, alpha=0.5, log=True)\n",
    "plt.show()"
   ]
  },
  {
   "cell_type": "code",
   "execution_count": 460,
   "metadata": {},
   "outputs": [],
   "source": [
    "def get_private_test_data():\n",
    "    file_names = []\n",
    "    data_dir = os.path.join(c.DATASET_DIR, 'private_test')\n",
    "    for root, dirs, files in os.walk(data_dir):\n",
    "        file_names += files\n",
    "    df = pd.DataFrame(file_names, columns=['file_names'])\n",
    "    df['id'] = df['file_names'].map(lambda file_name: file_name[:-4])\n",
    "    df['classification_predictions'] = 1\n",
    "    df['regression_predictions'] = 1\n",
    "    return df\n"
   ]
  },
  {
   "cell_type": "code",
   "execution_count": 461,
   "metadata": {},
   "outputs": [
    {
     "data": {
      "text/html": [
       "<div>\n",
       "<style scoped>\n",
       "    .dataframe tbody tr th:only-of-type {\n",
       "        vertical-align: middle;\n",
       "    }\n",
       "\n",
       "    .dataframe tbody tr th {\n",
       "        vertical-align: top;\n",
       "    }\n",
       "\n",
       "    .dataframe thead th {\n",
       "        text-align: right;\n",
       "    }\n",
       "</style>\n",
       "<table border=\"1\" class=\"dataframe\">\n",
       "  <thead>\n",
       "    <tr style=\"text-align: right;\">\n",
       "      <th></th>\n",
       "      <th>file_names</th>\n",
       "      <th>id</th>\n",
       "      <th>classification_predictions</th>\n",
       "      <th>regression_predictions</th>\n",
       "    </tr>\n",
       "  </thead>\n",
       "  <tbody>\n",
       "    <tr>\n",
       "      <th>0</th>\n",
       "      <td>00013a94f1fae3e5a33f8b44c2842c85f0483e96.png</td>\n",
       "      <td>00013a94f1fae3e5a33f8b44c2842c85f0483e96</td>\n",
       "      <td>1</td>\n",
       "      <td>1</td>\n",
       "    </tr>\n",
       "    <tr>\n",
       "      <th>1</th>\n",
       "      <td>0005564c011259402dcb6e3beb6e64d285124fa0.png</td>\n",
       "      <td>0005564c011259402dcb6e3beb6e64d285124fa0</td>\n",
       "      <td>1</td>\n",
       "      <td>1</td>\n",
       "    </tr>\n",
       "    <tr>\n",
       "      <th>2</th>\n",
       "      <td>0007520c8d8efade8feaafbf74fc7d206cdf229d.png</td>\n",
       "      <td>0007520c8d8efade8feaafbf74fc7d206cdf229d</td>\n",
       "      <td>1</td>\n",
       "      <td>1</td>\n",
       "    </tr>\n",
       "    <tr>\n",
       "      <th>3</th>\n",
       "      <td>000804a189f630cd980ff1543c0ef99d48cd6b34.png</td>\n",
       "      <td>000804a189f630cd980ff1543c0ef99d48cd6b34</td>\n",
       "      <td>1</td>\n",
       "      <td>1</td>\n",
       "    </tr>\n",
       "    <tr>\n",
       "      <th>4</th>\n",
       "      <td>000eb12def5371089743dcfe401a8e399f5883fc.png</td>\n",
       "      <td>000eb12def5371089743dcfe401a8e399f5883fc</td>\n",
       "      <td>1</td>\n",
       "      <td>1</td>\n",
       "    </tr>\n",
       "    <tr>\n",
       "      <th>...</th>\n",
       "      <td>...</td>\n",
       "      <td>...</td>\n",
       "      <td>...</td>\n",
       "      <td>...</td>\n",
       "    </tr>\n",
       "    <tr>\n",
       "      <th>15053</th>\n",
       "      <td>ffe6d929d9537cf9b718711a63e41a1b57b509c2.png</td>\n",
       "      <td>ffe6d929d9537cf9b718711a63e41a1b57b509c2</td>\n",
       "      <td>1</td>\n",
       "      <td>1</td>\n",
       "    </tr>\n",
       "    <tr>\n",
       "      <th>15054</th>\n",
       "      <td>ffea775cbac98273943841d63b08377d29f08bc7.png</td>\n",
       "      <td>ffea775cbac98273943841d63b08377d29f08bc7</td>\n",
       "      <td>1</td>\n",
       "      <td>1</td>\n",
       "    </tr>\n",
       "    <tr>\n",
       "      <th>15055</th>\n",
       "      <td>ffece3dcdcbe2d3125dbed1b8c77f2d6b4832580.png</td>\n",
       "      <td>ffece3dcdcbe2d3125dbed1b8c77f2d6b4832580</td>\n",
       "      <td>1</td>\n",
       "      <td>1</td>\n",
       "    </tr>\n",
       "    <tr>\n",
       "      <th>15056</th>\n",
       "      <td>ffed718417c6923844d33e70491c54396e3ec1ed.png</td>\n",
       "      <td>ffed718417c6923844d33e70491c54396e3ec1ed</td>\n",
       "      <td>1</td>\n",
       "      <td>1</td>\n",
       "    </tr>\n",
       "    <tr>\n",
       "      <th>15057</th>\n",
       "      <td>fff7b36d8ef90c90d9598620b87dabc0360f501c.png</td>\n",
       "      <td>fff7b36d8ef90c90d9598620b87dabc0360f501c</td>\n",
       "      <td>1</td>\n",
       "      <td>1</td>\n",
       "    </tr>\n",
       "  </tbody>\n",
       "</table>\n",
       "<p>15058 rows × 4 columns</p>\n",
       "</div>"
      ],
      "text/plain": [
       "                                         file_names  \\\n",
       "0      00013a94f1fae3e5a33f8b44c2842c85f0483e96.png   \n",
       "1      0005564c011259402dcb6e3beb6e64d285124fa0.png   \n",
       "2      0007520c8d8efade8feaafbf74fc7d206cdf229d.png   \n",
       "3      000804a189f630cd980ff1543c0ef99d48cd6b34.png   \n",
       "4      000eb12def5371089743dcfe401a8e399f5883fc.png   \n",
       "...                                             ...   \n",
       "15053  ffe6d929d9537cf9b718711a63e41a1b57b509c2.png   \n",
       "15054  ffea775cbac98273943841d63b08377d29f08bc7.png   \n",
       "15055  ffece3dcdcbe2d3125dbed1b8c77f2d6b4832580.png   \n",
       "15056  ffed718417c6923844d33e70491c54396e3ec1ed.png   \n",
       "15057  fff7b36d8ef90c90d9598620b87dabc0360f501c.png   \n",
       "\n",
       "                                             id  classification_predictions  \\\n",
       "0      00013a94f1fae3e5a33f8b44c2842c85f0483e96                           1   \n",
       "1      0005564c011259402dcb6e3beb6e64d285124fa0                           1   \n",
       "2      0007520c8d8efade8feaafbf74fc7d206cdf229d                           1   \n",
       "3      000804a189f630cd980ff1543c0ef99d48cd6b34                           1   \n",
       "4      000eb12def5371089743dcfe401a8e399f5883fc                           1   \n",
       "...                                         ...                         ...   \n",
       "15053  ffe6d929d9537cf9b718711a63e41a1b57b509c2                           1   \n",
       "15054  ffea775cbac98273943841d63b08377d29f08bc7                           1   \n",
       "15055  ffece3dcdcbe2d3125dbed1b8c77f2d6b4832580                           1   \n",
       "15056  ffed718417c6923844d33e70491c54396e3ec1ed                           1   \n",
       "15057  fff7b36d8ef90c90d9598620b87dabc0360f501c                           1   \n",
       "\n",
       "       regression_predictions  \n",
       "0                           1  \n",
       "1                           1  \n",
       "2                           1  \n",
       "3                           1  \n",
       "4                           1  \n",
       "...                       ...  \n",
       "15053                       1  \n",
       "15054                       1  \n",
       "15055                       1  \n",
       "15056                       1  \n",
       "15057                       1  \n",
       "\n",
       "[15058 rows x 4 columns]"
      ]
     },
     "execution_count": 461,
     "metadata": {},
     "output_type": "execute_result"
    }
   ],
   "source": [
    "submission = get_private_test_data()\n",
    "submission"
   ]
  },
  {
   "cell_type": "code",
   "execution_count": 482,
   "metadata": {},
   "outputs": [],
   "source": [
    "submission = pd.concat([submission, df_test])#pd.merge(submission, df_test, how=\"outer\", on=['id'])\n",
    "submission = submission.fillna(1, axis=0)"
   ]
  },
  {
   "cell_type": "code",
   "execution_count": 483,
   "metadata": {},
   "outputs": [],
   "source": [
    "submission.e = 1"
   ]
  },
  {
   "cell_type": "code",
   "execution_count": 484,
   "metadata": {},
   "outputs": [],
   "source": [
    "submission = submission[['id', 't', 'e']]\n",
    "submission.t = submission.t.astype(int)\n",
    "submission.e = submission.e.astype(int)\n",
    "submission = submission.rename(columns={\"t\": \"classification_predictions\", \"e\": \"regression_predictions\"})"
   ]
  },
  {
   "cell_type": "code",
   "execution_count": 485,
   "metadata": {},
   "outputs": [],
   "source": [
    "submission.to_csv('submission.csv', index=False)"
   ]
  },
  {
   "cell_type": "code",
   "execution_count": 486,
   "metadata": {},
   "outputs": [
    {
     "data": {
      "text/html": [
       "<div>\n",
       "<style scoped>\n",
       "    .dataframe tbody tr th:only-of-type {\n",
       "        vertical-align: middle;\n",
       "    }\n",
       "\n",
       "    .dataframe tbody tr th {\n",
       "        vertical-align: top;\n",
       "    }\n",
       "\n",
       "    .dataframe thead th {\n",
       "        text-align: right;\n",
       "    }\n",
       "</style>\n",
       "<table border=\"1\" class=\"dataframe\">\n",
       "  <thead>\n",
       "    <tr style=\"text-align: right;\">\n",
       "      <th></th>\n",
       "      <th>id</th>\n",
       "      <th>classification_predictions</th>\n",
       "      <th>regression_predictions</th>\n",
       "    </tr>\n",
       "  </thead>\n",
       "  <tbody>\n",
       "    <tr>\n",
       "      <th>0</th>\n",
       "      <td>00013a94f1fae3e5a33f8b44c2842c85f0483e96</td>\n",
       "      <td>1</td>\n",
       "      <td>1</td>\n",
       "    </tr>\n",
       "    <tr>\n",
       "      <th>1</th>\n",
       "      <td>0005564c011259402dcb6e3beb6e64d285124fa0</td>\n",
       "      <td>1</td>\n",
       "      <td>1</td>\n",
       "    </tr>\n",
       "    <tr>\n",
       "      <th>2</th>\n",
       "      <td>0007520c8d8efade8feaafbf74fc7d206cdf229d</td>\n",
       "      <td>1</td>\n",
       "      <td>1</td>\n",
       "    </tr>\n",
       "    <tr>\n",
       "      <th>3</th>\n",
       "      <td>000804a189f630cd980ff1543c0ef99d48cd6b34</td>\n",
       "      <td>1</td>\n",
       "      <td>1</td>\n",
       "    </tr>\n",
       "    <tr>\n",
       "      <th>4</th>\n",
       "      <td>000eb12def5371089743dcfe401a8e399f5883fc</td>\n",
       "      <td>1</td>\n",
       "      <td>1</td>\n",
       "    </tr>\n",
       "    <tr>\n",
       "      <th>...</th>\n",
       "      <td>...</td>\n",
       "      <td>...</td>\n",
       "      <td>...</td>\n",
       "    </tr>\n",
       "    <tr>\n",
       "      <th>1497</th>\n",
       "      <td>ff343a62752061d995f94ebc10ac53f79d1b5ab1</td>\n",
       "      <td>1</td>\n",
       "      <td>1</td>\n",
       "    </tr>\n",
       "    <tr>\n",
       "      <th>1498</th>\n",
       "      <td>ff897755cb312cd6f510ba7a38cb293e648d97d5</td>\n",
       "      <td>1</td>\n",
       "      <td>1</td>\n",
       "    </tr>\n",
       "    <tr>\n",
       "      <th>1499</th>\n",
       "      <td>ff9a93402457ac514cd069a7ce3f2e32692f5290</td>\n",
       "      <td>0</td>\n",
       "      <td>1</td>\n",
       "    </tr>\n",
       "    <tr>\n",
       "      <th>1500</th>\n",
       "      <td>ffedc12ec5c142dae2086408b778cf0db2ff944e</td>\n",
       "      <td>1</td>\n",
       "      <td>1</td>\n",
       "    </tr>\n",
       "    <tr>\n",
       "      <th>1501</th>\n",
       "      <td>fffdd654bd60b81ffd51a723a8839b8f5381feba</td>\n",
       "      <td>0</td>\n",
       "      <td>1</td>\n",
       "    </tr>\n",
       "  </tbody>\n",
       "</table>\n",
       "<p>22568 rows × 3 columns</p>\n",
       "</div>"
      ],
      "text/plain": [
       "                                            id  classification_predictions  \\\n",
       "0     00013a94f1fae3e5a33f8b44c2842c85f0483e96                           1   \n",
       "1     0005564c011259402dcb6e3beb6e64d285124fa0                           1   \n",
       "2     0007520c8d8efade8feaafbf74fc7d206cdf229d                           1   \n",
       "3     000804a189f630cd980ff1543c0ef99d48cd6b34                           1   \n",
       "4     000eb12def5371089743dcfe401a8e399f5883fc                           1   \n",
       "...                                        ...                         ...   \n",
       "1497  ff343a62752061d995f94ebc10ac53f79d1b5ab1                           1   \n",
       "1498  ff897755cb312cd6f510ba7a38cb293e648d97d5                           1   \n",
       "1499  ff9a93402457ac514cd069a7ce3f2e32692f5290                           0   \n",
       "1500  ffedc12ec5c142dae2086408b778cf0db2ff944e                           1   \n",
       "1501  fffdd654bd60b81ffd51a723a8839b8f5381feba                           0   \n",
       "\n",
       "      regression_predictions  \n",
       "0                          1  \n",
       "1                          1  \n",
       "2                          1  \n",
       "3                          1  \n",
       "4                          1  \n",
       "...                      ...  \n",
       "1497                       1  \n",
       "1498                       1  \n",
       "1499                       1  \n",
       "1500                       1  \n",
       "1501                       1  \n",
       "\n",
       "[22568 rows x 3 columns]"
      ]
     },
     "execution_count": 486,
     "metadata": {},
     "output_type": "execute_result"
    }
   ],
   "source": [
    "submission"
   ]
  },
  {
   "cell_type": "code",
   "execution_count": null,
   "metadata": {},
   "outputs": [],
   "source": []
  }
 ],
 "metadata": {
  "kernelspec": {
   "display_name": "Python 3",
   "language": "python",
   "name": "python3"
  },
  "language_info": {
   "codemirror_mode": {
    "name": "ipython",
    "version": 3
   },
   "file_extension": ".py",
   "mimetype": "text/x-python",
   "name": "python",
   "nbconvert_exporter": "python",
   "pygments_lexer": "ipython3",
   "version": "3.8.5"
  }
 },
 "nbformat": 4,
 "nbformat_minor": 4
}
